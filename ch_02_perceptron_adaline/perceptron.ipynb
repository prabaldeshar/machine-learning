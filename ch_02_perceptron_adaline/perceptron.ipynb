{
   "cells": [
      {
         "cell_type": "markdown",
         "metadata": {},
         "source": [
            "#### Biological Neuron\n",
            "\n",
            "<p align=\"center\">\n",
            "  <img src=\"../markdown-images/biological_neuron.png\">\n",
            "</p>"
         ]
      },
      {
         "cell_type": "markdown",
         "metadata": {},
         "source": [
            "#### What is a perceptron?\n",
            "- A perceptron takes several binary inputs, x1, x2, ..., and produces as single input. \n",
            "\n",
            "<p align=\"center\">\n",
            "  <img src=\"../markdown-images/perceptron.png\">\n",
            "</p>\n",
            "\n",
            "- The above example shows the perceptron has three inputs x1, x2 and x3. \n",
            "- Weights were introduced, w1, w2,..., to express the importance to the respective inputs.\n",
            "- The neurons output, 0 or 1 is determined by whether the weighted sum $\\sum_{j} wjxj$ is less than or greater than the threshold value.\n",
            "- In algebaric terms: <br />\n",
            "\n",
            "<p align=\"center\">\n",
            "  <img src=\"../markdown-images/perceptron_equation.png\">\n",
            "</p>\n",
            "\n"
         ]
      },
      {
         "cell_type": "markdown",
         "metadata": {},
         "source": [
            "#### Formal defination of an artifical neuron\n",
            "\n",
            "![preceptron-diagram](../markdown-images/perceptron_diagram.png) \n",
            "\n",
            "Formally we can put the idea behind artifical neurons into the context of a binary classification task where we refer to our two classes as 1 (postive class) and -1 (negative class) for simplicity.\n",
            "\n",
            "We can define a decision fucntion $\\phi$(z) that takes a linera combination of input values,x, and the corresponding weight vector, **w**, where z is so called net input z = $w_{1}x_{1} + w_{2}x_{2} + \\cdots + w_{n}x_{n}$\n",
            "\n",
            "w = $\\begin{bmatrix} w_{1} \\\\ \\vdots \\\\ w_{m} \\end{bmatrix}$\n",
            "x = $\\begin{bmatrix} x_{1} \\\\ \\vdots \\\\ x_{m} \\end{bmatrix}$\n",
            "\n",
            "If the net input of a particular example $X^ (i)$ is greater than the threshold, $\\theta $, we predict class 1, otherwise we predict class -1.  \n",
            "\n",
            "<p align=\"center\">\n",
            "  <img src=\"../markdown-images/decision_function.png\">\n",
            "</p\n",
            "\n",
            "For simplicity, we can bring the threshold, $\\theta$, to the left side of the equation and define a weight-zero as $w_{0}=-\\theta $ and $x_{0}=1$ so that we write $z$ in a more compact form:\n",
            "\n",
            "$z = w_{0}x_{0} + w_{1}w_{2} + \\cdots + w_{m}x_{m} = w^T x$\n",
            "\n",
            "Here, the negative threshold,or weight, $w_{0} = -\\theta$ is usually called the **bias unit**.\n",
            "\n",
            "The following figure illustrates how the the net input $z = w^T x $ is squashed into a binary output (-1 and 1) by the decision function $\\phi $ and how it can be used to distingusih betweeen two **linearly seperable classes**.\n",
            "\n",
            "<p align=\"center\">\n",
            "  <img src=\"../markdown-images/graph_preceptron.png\">\n",
            "</p\n"
         ]
      },
      {
         "cell_type": "markdown",
         "metadata": {},
         "source": [
            "#### The perceptron learning rule\n",
            "The perceptron algorithm can be summarizd by the following steps:\n",
            "\n",
            "1. Initilize the weights to 0 or small random numbers.\n",
            "1. For each training exampel, $X^i$\n",
            "    - Compute the output value, \n",
            "    - Update the weight\n",
            "\n",
            "The weight vector can be updated as written below:\n",
            "$w_{j} = w_{j} + \\Delta w_{j}$\n",
            "\n",
            "Update value for weight $w_{j}$\n",
            "\n",
            "$\\Delta w_{j} = \\eta (y^i - \\hat y ^i) x_{j} ^ i $\n",
            "\n",
            "Here, <br/>\n",
            " - $ \\eta $ is the learning rate <br/>\n",
            " - $y^i$ is the *i*th **true class label** for *i*th  training example <br/>\n",
            " - $\\hat y^i$ is the predicted class label  \n",
            "\n",
            "\n",
            "It  is important to note that the convergence of the perceptron is only guaranteed if two classes are linearly separable."
         ]
      },
      {
         "cell_type": "markdown",
         "metadata": {},
         "source": [
            "#### Perceptron Diagram\n",
            "\n",
            "![preceptron-diagram](../markdown-images/perceptron_diagram.png) \n",
            "\n",
            "The diagram shows that the preceptron receives the inputs and combines them with their corresponding weights. The net input is then passed to the threshold function, which generates a binary output of -1 or +1. During the learning phase this output is used to calculate the erros and update the weights."
         ]
      },
      {
         "cell_type": "markdown",
         "metadata": {},
         "source": [
            "#### Implementation of preceptron using Python"
         ]
      },
      {
         "cell_type": "markdown",
         "metadata": {},
         "source": [
            "First Load the Iris data "
         ]
      },
      {
         "cell_type": "markdown",
         "metadata": {},
         "source": [
            "***Iris-data download link***\n",
            "https://archive.ics.uci.edu/ml/machine-learning-databases/iris/iris.data"
         ]
      },
      {
         "cell_type": "code",
         "execution_count": 3,
         "metadata": {},
         "outputs": [],
         "source": [
            "import pandas as pd\n",
            "import numpy as np\n",
            "import os\n",
            "\n",
            "filepath = os.path.join('../data', 'iris.data')\n",
            "df = pd.read_csv(filepath, header=None, encoding='utf-8') "
         ]
      },
      {
         "cell_type": "code",
         "execution_count": 4,
         "metadata": {},
         "outputs": [
            {
               "data": {
                  "text/html": [
                     "<div>\n",
                     "<style scoped>\n",
                     "    .dataframe tbody tr th:only-of-type {\n",
                     "        vertical-align: middle;\n",
                     "    }\n",
                     "\n",
                     "    .dataframe tbody tr th {\n",
                     "        vertical-align: top;\n",
                     "    }\n",
                     "\n",
                     "    .dataframe thead th {\n",
                     "        text-align: right;\n",
                     "    }\n",
                     "</style>\n",
                     "<table border=\"1\" class=\"dataframe\">\n",
                     "  <thead>\n",
                     "    <tr style=\"text-align: right;\">\n",
                     "      <th></th>\n",
                     "      <th>0</th>\n",
                     "      <th>1</th>\n",
                     "      <th>2</th>\n",
                     "      <th>3</th>\n",
                     "      <th>4</th>\n",
                     "    </tr>\n",
                     "  </thead>\n",
                     "  <tbody>\n",
                     "    <tr>\n",
                     "      <th>145</th>\n",
                     "      <td>6.7</td>\n",
                     "      <td>3.0</td>\n",
                     "      <td>5.2</td>\n",
                     "      <td>2.3</td>\n",
                     "      <td>Iris-virginica</td>\n",
                     "    </tr>\n",
                     "    <tr>\n",
                     "      <th>146</th>\n",
                     "      <td>6.3</td>\n",
                     "      <td>2.5</td>\n",
                     "      <td>5.0</td>\n",
                     "      <td>1.9</td>\n",
                     "      <td>Iris-virginica</td>\n",
                     "    </tr>\n",
                     "    <tr>\n",
                     "      <th>147</th>\n",
                     "      <td>6.5</td>\n",
                     "      <td>3.0</td>\n",
                     "      <td>5.2</td>\n",
                     "      <td>2.0</td>\n",
                     "      <td>Iris-virginica</td>\n",
                     "    </tr>\n",
                     "    <tr>\n",
                     "      <th>148</th>\n",
                     "      <td>6.2</td>\n",
                     "      <td>3.4</td>\n",
                     "      <td>5.4</td>\n",
                     "      <td>2.3</td>\n",
                     "      <td>Iris-virginica</td>\n",
                     "    </tr>\n",
                     "    <tr>\n",
                     "      <th>149</th>\n",
                     "      <td>5.9</td>\n",
                     "      <td>3.0</td>\n",
                     "      <td>5.1</td>\n",
                     "      <td>1.8</td>\n",
                     "      <td>Iris-virginica</td>\n",
                     "    </tr>\n",
                     "  </tbody>\n",
                     "</table>\n",
                     "</div>"
                  ],
                  "text/plain": [
                     "       0    1    2    3               4\n",
                     "145  6.7  3.0  5.2  2.3  Iris-virginica\n",
                     "146  6.3  2.5  5.0  1.9  Iris-virginica\n",
                     "147  6.5  3.0  5.2  2.0  Iris-virginica\n",
                     "148  6.2  3.4  5.4  2.3  Iris-virginica\n",
                     "149  5.9  3.0  5.1  1.8  Iris-virginica"
                  ]
               },
               "execution_count": 4,
               "metadata": {},
               "output_type": "execute_result"
            }
         ],
         "source": [
            "df.tail()"
         ]
      },
      {
         "cell_type": "markdown",
         "metadata": {},
         "source": [
            "Convert the labels to binary , -1 for 'Iris-setosa' and 1 for 'Iris-versicolor'"
         ]
      },
      {
         "cell_type": "code",
         "execution_count": 5,
         "metadata": {},
         "outputs": [
            {
               "data": {
                  "text/plain": [
                     "array([-1, -1, -1, -1, -1, -1, -1, -1, -1, -1, -1, -1, -1, -1, -1, -1, -1,\n",
                     "       -1, -1, -1, -1, -1, -1, -1, -1, -1, -1, -1, -1, -1, -1, -1, -1, -1,\n",
                     "       -1, -1, -1, -1, -1, -1, -1, -1, -1, -1, -1, -1, -1, -1, -1, -1,  1,\n",
                     "        1,  1,  1,  1,  1,  1,  1,  1,  1,  1,  1,  1,  1,  1,  1,  1,  1,\n",
                     "        1,  1,  1,  1,  1,  1,  1,  1,  1,  1,  1,  1,  1,  1,  1,  1,  1,\n",
                     "        1,  1,  1,  1,  1,  1,  1,  1,  1,  1,  1,  1,  1,  1,  1])"
                  ]
               },
               "execution_count": 5,
               "metadata": {},
               "output_type": "execute_result"
            }
         ],
         "source": [
            "## Select the first 100 data\n",
            "labels = df.iloc[0:100, 4].values\n",
            "labels = np.where(labels == 'Iris-setosa', -1, 1)\n",
            "labels"
         ]
      },
      {
         "cell_type": "markdown",
         "metadata": {},
         "source": [
            "Extract only 2 features i.e. sepal length and petal length"
         ]
      },
      {
         "cell_type": "code",
         "execution_count": 6,
         "metadata": {},
         "outputs": [
            {
               "data": {
                  "text/plain": [
                     "array([[5.1, 1.4],\n",
                     "       [4.9, 1.4],\n",
                     "       [4.7, 1.3],\n",
                     "       [4.6, 1.5],\n",
                     "       [5. , 1.4],\n",
                     "       [5.4, 1.7],\n",
                     "       [4.6, 1.4],\n",
                     "       [5. , 1.5],\n",
                     "       [4.4, 1.4],\n",
                     "       [4.9, 1.5],\n",
                     "       [5.4, 1.5],\n",
                     "       [4.8, 1.6],\n",
                     "       [4.8, 1.4],\n",
                     "       [4.3, 1.1],\n",
                     "       [5.8, 1.2],\n",
                     "       [5.7, 1.5],\n",
                     "       [5.4, 1.3],\n",
                     "       [5.1, 1.4],\n",
                     "       [5.7, 1.7],\n",
                     "       [5.1, 1.5],\n",
                     "       [5.4, 1.7],\n",
                     "       [5.1, 1.5],\n",
                     "       [4.6, 1. ],\n",
                     "       [5.1, 1.7],\n",
                     "       [4.8, 1.9],\n",
                     "       [5. , 1.6],\n",
                     "       [5. , 1.6],\n",
                     "       [5.2, 1.5],\n",
                     "       [5.2, 1.4],\n",
                     "       [4.7, 1.6],\n",
                     "       [4.8, 1.6],\n",
                     "       [5.4, 1.5],\n",
                     "       [5.2, 1.5],\n",
                     "       [5.5, 1.4],\n",
                     "       [4.9, 1.5],\n",
                     "       [5. , 1.2],\n",
                     "       [5.5, 1.3],\n",
                     "       [4.9, 1.5],\n",
                     "       [4.4, 1.3],\n",
                     "       [5.1, 1.5],\n",
                     "       [5. , 1.3],\n",
                     "       [4.5, 1.3],\n",
                     "       [4.4, 1.3],\n",
                     "       [5. , 1.6],\n",
                     "       [5.1, 1.9],\n",
                     "       [4.8, 1.4],\n",
                     "       [5.1, 1.6],\n",
                     "       [4.6, 1.4],\n",
                     "       [5.3, 1.5],\n",
                     "       [5. , 1.4],\n",
                     "       [7. , 4.7],\n",
                     "       [6.4, 4.5],\n",
                     "       [6.9, 4.9],\n",
                     "       [5.5, 4. ],\n",
                     "       [6.5, 4.6],\n",
                     "       [5.7, 4.5],\n",
                     "       [6.3, 4.7],\n",
                     "       [4.9, 3.3],\n",
                     "       [6.6, 4.6],\n",
                     "       [5.2, 3.9],\n",
                     "       [5. , 3.5],\n",
                     "       [5.9, 4.2],\n",
                     "       [6. , 4. ],\n",
                     "       [6.1, 4.7],\n",
                     "       [5.6, 3.6],\n",
                     "       [6.7, 4.4],\n",
                     "       [5.6, 4.5],\n",
                     "       [5.8, 4.1],\n",
                     "       [6.2, 4.5],\n",
                     "       [5.6, 3.9],\n",
                     "       [5.9, 4.8],\n",
                     "       [6.1, 4. ],\n",
                     "       [6.3, 4.9],\n",
                     "       [6.1, 4.7],\n",
                     "       [6.4, 4.3],\n",
                     "       [6.6, 4.4],\n",
                     "       [6.8, 4.8],\n",
                     "       [6.7, 5. ],\n",
                     "       [6. , 4.5],\n",
                     "       [5.7, 3.5],\n",
                     "       [5.5, 3.8],\n",
                     "       [5.5, 3.7],\n",
                     "       [5.8, 3.9],\n",
                     "       [6. , 5.1],\n",
                     "       [5.4, 4.5],\n",
                     "       [6. , 4.5],\n",
                     "       [6.7, 4.7],\n",
                     "       [6.3, 4.4],\n",
                     "       [5.6, 4.1],\n",
                     "       [5.5, 4. ],\n",
                     "       [5.5, 4.4],\n",
                     "       [6.1, 4.6],\n",
                     "       [5.8, 4. ],\n",
                     "       [5. , 3.3],\n",
                     "       [5.6, 4.2],\n",
                     "       [5.7, 4.2],\n",
                     "       [5.7, 4.2],\n",
                     "       [6.2, 4.3],\n",
                     "       [5.1, 3. ],\n",
                     "       [5.7, 4.1]])"
                  ]
               },
               "execution_count": 6,
               "metadata": {},
               "output_type": "execute_result"
            }
         ],
         "source": [
            "features = df.iloc[0:100, [0,2]].values\n",
            "features"
         ]
      },
      {
         "cell_type": "markdown",
         "metadata": {},
         "source": [
            "Plot and visualize the data."
         ]
      },
      {
         "cell_type": "code",
         "execution_count": 7,
         "metadata": {},
         "outputs": [
            {
               "data": {
                  "image/png": "[encoded data removed]",
                  "text/plain": [
                     "<Figure size 432x288 with 1 Axes>"
                  ]
               },
               "metadata": {
                  "needs_background": "light"
               },
               "output_type": "display_data"
            }
         ],
         "source": [
            "import matplotlib.pyplot as plt\n",
            "plt.scatter(features[:50, 0], features[:50, 1], color='red', marker='o', label='setosa')\n",
            "plt.scatter(features[50:100, 0], features[50:100, 1], color='blue', marker='x', label='versicolor')\n",
            "plt.xlabel('sepal length[cm]')\n",
            "plt.ylabel('petal length [cm]')\n",
            "plt.legend(loc='upper left')\n",
            "plt.show()"
         ]
      },
      {
         "cell_type": "markdown",
         "metadata": {},
         "source": [
            "Split the data in training data and testing data"
         ]
      },
      {
         "cell_type": "code",
         "execution_count": 8,
         "metadata": {},
         "outputs": [],
         "source": [
            "from sklearn.model_selection import train_test_split\n",
            "X_train, X_test, y_train, y_test = train_test_split(features, labels, random_state=0, train_size = .75)"
         ]
      },
      {
         "cell_type": "markdown",
         "metadata": {},
         "source": [
            "Training the Perceptron"
         ]
      },
      {
         "cell_type": "code",
         "execution_count": 9,
         "metadata": {},
         "outputs": [],
         "source": [
            "# Import Perceptron class from perceptron.py file\n",
            "from perceptron import Perceptron\n",
            "\n",
            "perceptron = Perceptron(learning_rate=0.1, n_iter=2)\n",
            "trained_perceptron = perceptron.fit(X_train, y_train)"
         ]
      },
      {
         "cell_type": "markdown",
         "metadata": {},
         "source": [
            "Calculating the Accuracy"
         ]
      },
      {
         "cell_type": "code",
         "execution_count": 10,
         "metadata": {},
         "outputs": [],
         "source": [
            "def accuracy_metric(trained_perceptron, test_features, test_labels):\n",
            "    correct_predictions = 0\n",
            "    total_predictions = len(test_labels)\n",
            "    for X, label in zip(test_features, test_labels):\n",
            "        predicted_label = trained_perceptron.predict(X)\n",
            "        if label == predicted_label:\n",
            "            correct_predictions += 1\n",
            "    \n",
            "    accuracy = (correct_predictions/total_predictions) * 100\n",
            "    return accuracy"
         ]
      },
      {
         "cell_type": "code",
         "execution_count": 11,
         "metadata": {},
         "outputs": [
            {
               "name": "stdout",
               "output_type": "stream",
               "text": [
                  "Accuracy = 100.0\n"
               ]
            }
         ],
         "source": [
            "accuracy = accuracy_metric(trained_perceptron, X_test, y_test)\n",
            "print(f\"Accuracy = {accuracy}\")"
         ]
      },
      {
         "cell_type": "code",
         "execution_count": 12,
         "metadata": {},
         "outputs": [
            {
               "data": {
                  "text/plain": [
                     "1"
                  ]
               },
               "execution_count": 12,
               "metadata": {},
               "output_type": "execute_result"
            }
         ],
         "source": [
            "y_test[1]"
         ]
      },
      {
         "cell_type": "code",
         "execution_count": 13,
         "metadata": {},
         "outputs": [
            {
               "data": {
                  "text/plain": [
                     "array(1)"
                  ]
               },
               "execution_count": 13,
               "metadata": {},
               "output_type": "execute_result"
            }
         ],
         "source": [
            "trained_perceptron.predict(X_test[1])"
         ]
      }
   ],
   "metadata": {
      "interpreter": {
         "hash": "eb6fa1767a1e71d85bec8c42f873ca19270f8f93bde4e75d65e361f3717e7f94"
      },
      "kernelspec": {
         "display_name": "Python 3.8.10 ('env': venv)",
         "language": "python",
         "name": "python3"
      },
      "language_info": {
         "codemirror_mode": {
            "name": "ipython",
            "version": 3
         },
         "file_extension": ".py",
         "mimetype": "text/x-python",
         "name": "python",
         "nbconvert_exporter": "python",
         "pygments_lexer": "ipython3",
         "version": "3.8.10"
      },
      "orig_nbformat": 4
   },
   "nbformat": 4,
   "nbformat_minor": 2
}

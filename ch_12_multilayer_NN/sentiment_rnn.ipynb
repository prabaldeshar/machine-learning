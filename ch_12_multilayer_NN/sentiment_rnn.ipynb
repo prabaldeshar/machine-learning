{
 "cells": [
  {
   "cell_type": "code",
   "execution_count": 13,
   "metadata": {},
   "outputs": [],
   "source": [
    "import tensorflow as tf\n",
    "# import tensorflow_datasets as tfds\n",
    "import numpy as np\n",
    "import pandas as pd\n",
    "\n",
    "df = pd.read_csv('../data/movie_data.csv', encoding='utf-8')"
   ]
  },
  {
   "cell_type": "code",
   "execution_count": 14,
   "metadata": {},
   "outputs": [
    {
     "data": {
      "text/html": [
       "<div>\n",
       "<style scoped>\n",
       "    .dataframe tbody tr th:only-of-type {\n",
       "        vertical-align: middle;\n",
       "    }\n",
       "\n",
       "    .dataframe tbody tr th {\n",
       "        vertical-align: top;\n",
       "    }\n",
       "\n",
       "    .dataframe thead th {\n",
       "        text-align: right;\n",
       "    }\n",
       "</style>\n",
       "<table border=\"1\" class=\"dataframe\">\n",
       "  <thead>\n",
       "    <tr style=\"text-align: right;\">\n",
       "      <th></th>\n",
       "      <th>review</th>\n",
       "      <th>sentiment</th>\n",
       "    </tr>\n",
       "  </thead>\n",
       "  <tbody>\n",
       "    <tr>\n",
       "      <th>0</th>\n",
       "      <td>In 1974, the teenager Martha Moxley (Maggie Gr...</td>\n",
       "      <td>1</td>\n",
       "    </tr>\n",
       "    <tr>\n",
       "      <th>1</th>\n",
       "      <td>OK... so... I really like Kris Kristofferson a...</td>\n",
       "      <td>0</td>\n",
       "    </tr>\n",
       "    <tr>\n",
       "      <th>2</th>\n",
       "      <td>***SPOILER*** Do not read this, if you think a...</td>\n",
       "      <td>0</td>\n",
       "    </tr>\n",
       "    <tr>\n",
       "      <th>3</th>\n",
       "      <td>hi for all the people who have seen this wonde...</td>\n",
       "      <td>1</td>\n",
       "    </tr>\n",
       "    <tr>\n",
       "      <th>4</th>\n",
       "      <td>I recently bought the DVD, forgetting just how...</td>\n",
       "      <td>0</td>\n",
       "    </tr>\n",
       "  </tbody>\n",
       "</table>\n",
       "</div>"
      ],
      "text/plain": [
       "                                              review  sentiment\n",
       "0  In 1974, the teenager Martha Moxley (Maggie Gr...          1\n",
       "1  OK... so... I really like Kris Kristofferson a...          0\n",
       "2  ***SPOILER*** Do not read this, if you think a...          0\n",
       "3  hi for all the people who have seen this wonde...          1\n",
       "4  I recently bought the DVD, forgetting just how...          0"
      ]
     },
     "execution_count": 14,
     "metadata": {},
     "output_type": "execute_result"
    }
   ],
   "source": [
    "df.head()"
   ]
  },
  {
   "cell_type": "code",
   "execution_count": 15,
   "metadata": {},
   "outputs": [],
   "source": [
    "## Step 1 Create the dataset\n",
    "target = df.pop('sentiment')"
   ]
  },
  {
   "cell_type": "code",
   "execution_count": 17,
   "metadata": {},
   "outputs": [
    {
     "ename": "ValueError",
     "evalue": "The truth value of an array with more than one element is ambiguous. Use a.any() or a.all()",
     "output_type": "error",
     "traceback": [
      "\u001b[0;31m---------------------------------------------------------------------------\u001b[0m",
      "\u001b[0;31mValueError\u001b[0m                                Traceback (most recent call last)",
      "\u001b[1;32m/home/prabal/python/ml_study/ch_12_multilayer_NN/sentiment_rnn.ipynb Cell 4\u001b[0m in \u001b[0;36m<cell line: 1>\u001b[0;34m()\u001b[0m\n\u001b[0;32m----> <a href='vscode-notebook-cell://wsl%2Bubuntu-20.04/home/prabal/python/ml_study/ch_12_multilayer_NN/sentiment_rnn.ipynb#ch0000005vscode-remote?line=0'>1</a>\u001b[0m ds_raw \u001b[39m=\u001b[39m tf\u001b[39m.\u001b[39;49mdata\u001b[39m.\u001b[39;49mDataset\u001b[39m.\u001b[39;49mfrom_tensor_slices(df\u001b[39m.\u001b[39;49mvalues, target\u001b[39m.\u001b[39;49mvalues)\n",
      "File \u001b[0;32m~/python/ml_study/env/lib/python3.8/site-packages/tensorflow/python/data/ops/dataset_ops.py:809\u001b[0m, in \u001b[0;36mDatasetV2.from_tensor_slices\u001b[0;34m(tensors, name)\u001b[0m\n\u001b[1;32m    731\u001b[0m \u001b[39m@staticmethod\u001b[39m\n\u001b[1;32m    732\u001b[0m \u001b[39mdef\u001b[39;00m \u001b[39mfrom_tensor_slices\u001b[39m(tensors, name\u001b[39m=\u001b[39m\u001b[39mNone\u001b[39;00m):\n\u001b[1;32m    733\u001b[0m   \u001b[39m\"\"\"Creates a `Dataset` whose elements are slices of the given tensors.\u001b[39;00m\n\u001b[1;32m    734\u001b[0m \n\u001b[1;32m    735\u001b[0m \u001b[39m  The given tensors are sliced along their first dimension. This operation\u001b[39;00m\n\u001b[0;32m   (...)\u001b[0m\n\u001b[1;32m    807\u001b[0m \u001b[39m    Dataset: A `Dataset`.\u001b[39;00m\n\u001b[1;32m    808\u001b[0m \u001b[39m  \"\"\"\u001b[39;00m\n\u001b[0;32m--> 809\u001b[0m   \u001b[39mreturn\u001b[39;00m TensorSliceDataset(tensors, name\u001b[39m=\u001b[39;49mname)\n",
      "File \u001b[0;32m~/python/ml_study/env/lib/python3.8/site-packages/tensorflow/python/data/ops/dataset_ops.py:4571\u001b[0m, in \u001b[0;36mTensorSliceDataset.__init__\u001b[0;34m(self, element, is_files, name)\u001b[0m\n\u001b[1;32m   4562\u001b[0m \u001b[39mfor\u001b[39;00m t \u001b[39min\u001b[39;00m \u001b[39mself\u001b[39m\u001b[39m.\u001b[39m_tensors[\u001b[39m1\u001b[39m:]:\n\u001b[1;32m   4563\u001b[0m   batch_dim\u001b[39m.\u001b[39massert_is_compatible_with(\n\u001b[1;32m   4564\u001b[0m       tensor_shape\u001b[39m.\u001b[39mDimension(\n\u001b[1;32m   4565\u001b[0m           tensor_shape\u001b[39m.\u001b[39mdimension_value(t\u001b[39m.\u001b[39mget_shape()[\u001b[39m0\u001b[39m])))\n\u001b[1;32m   4567\u001b[0m variant_tensor \u001b[39m=\u001b[39m gen_dataset_ops\u001b[39m.\u001b[39mtensor_slice_dataset(\n\u001b[1;32m   4568\u001b[0m     \u001b[39mself\u001b[39m\u001b[39m.\u001b[39m_tensors,\n\u001b[1;32m   4569\u001b[0m     output_shapes\u001b[39m=\u001b[39mstructure\u001b[39m.\u001b[39mget_flat_tensor_shapes(\u001b[39mself\u001b[39m\u001b[39m.\u001b[39m_structure),\n\u001b[1;32m   4570\u001b[0m     is_files\u001b[39m=\u001b[39mis_files,\n\u001b[0;32m-> 4571\u001b[0m     metadata\u001b[39m=\u001b[39m\u001b[39mself\u001b[39;49m\u001b[39m.\u001b[39;49m_metadata\u001b[39m.\u001b[39mSerializeToString())\n\u001b[1;32m   4572\u001b[0m \u001b[39msuper\u001b[39m(TensorSliceDataset, \u001b[39mself\u001b[39m)\u001b[39m.\u001b[39m\u001b[39m__init__\u001b[39m(variant_tensor)\n",
      "File \u001b[0;32m~/python/ml_study/env/lib/python3.8/site-packages/tensorflow/python/data/ops/dataset_ops.py:663\u001b[0m, in \u001b[0;36mDatasetV2._metadata\u001b[0;34m(self)\u001b[0m\n\u001b[1;32m    661\u001b[0m \u001b[39m\"\"\"Helper for generating dataset metadata.\"\"\"\u001b[39;00m\n\u001b[1;32m    662\u001b[0m metadata \u001b[39m=\u001b[39m dataset_metadata_pb2\u001b[39m.\u001b[39mMetadata()\n\u001b[0;32m--> 663\u001b[0m \u001b[39mif\u001b[39;00m \u001b[39mself\u001b[39m\u001b[39m.\u001b[39m_name:\n\u001b[1;32m    664\u001b[0m   metadata\u001b[39m.\u001b[39mname \u001b[39m=\u001b[39m _validate_and_encode(\u001b[39mself\u001b[39m\u001b[39m.\u001b[39m_name)\n\u001b[1;32m    665\u001b[0m \u001b[39mreturn\u001b[39;00m metadata\n",
      "\u001b[0;31mValueError\u001b[0m: The truth value of an array with more than one element is ambiguous. Use a.any() or a.all()"
     ]
    }
   ],
   "source": [
    "ds_raw = tf.data.Dataset.from_tensor_slices(df.values, target.values)"
   ]
  },
  {
   "cell_type": "code",
   "execution_count": null,
   "metadata": {},
   "outputs": [],
   "source": []
  }
 ],
 "metadata": {
  "kernelspec": {
   "display_name": "Python 3.8.10 ('env': venv)",
   "language": "python",
   "name": "python3"
  },
  "language_info": {
   "codemirror_mode": {
    "name": "ipython",
    "version": 3
   },
   "file_extension": ".py",
   "mimetype": "text/x-python",
   "name": "python",
   "nbconvert_exporter": "python",
   "pygments_lexer": "ipython3",
   "version": "3.8.10"
  },
  "orig_nbformat": 4,
  "vscode": {
   "interpreter": {
    "hash": "eb6fa1767a1e71d85bec8c42f873ca19270f8f93bde4e75d65e361f3717e7f94"
   }
  }
 },
 "nbformat": 4,
 "nbformat_minor": 2
}

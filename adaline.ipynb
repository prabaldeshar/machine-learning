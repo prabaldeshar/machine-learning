{
 "cells": [
  {
   "cell_type": "markdown",
   "metadata": {},
   "source": [
    "#### Adapative linear neurons (Adaline)\n",
    "\n",
    "- Adaliine algorith, illustrates the key conceptes of defining and minimizing continuous cost functions.\n",
    "\n",
    " - The key difference between the Adaline rule and Rosenbatt's perceptron is that the weights are updated based on  a linear activation functin rather than a unit step function.\n",
    "\n",
    "- While the linear activation function is used for learning the weights, we still use the threshold function to make the final predictions, which is similart to the unit step fucntion like in preceptron.\n",
    "\n",
    "- The main difference between the perceptron and Adaline algorithm are highlighted below:\n",
    "\n",
    "\n",
    "<p align=\"center\">\n",
    "  <img src=\"./markdown-images/perceptron_vs_adaline.png\" width=\"800\" />\n",
    "</p>\n",
    "\n",
    "- The Adaline algorithm compares the true class labels with the linear activation functions's continuous valued ouput to compute the model error and update the weights. In contrast, the preceptron compares the true class labels to the predicted class labels.\n",
    "\n",
    "\n"
   ]
  },
  {
   "cell_type": "markdown",
   "metadata": {},
   "source": [
    "#### Minimizing cost functions with gradient descent\n",
    " \n",
    " One of the key ingredients of supervised machine learning algorithms is a defined objective function that is to be optimized during the learning process. The objective fucntion is often a cost function that is to be minimized during the training process.\n",
    "\n",
    " In Adaline, the cost function is defined as the sum of **squared errors (SSE)**, between the calculated outcome nad the true class label:\n",
    "\n",
    " $ J(w) = \\frac{1}{2} \\sum_{i} (y^{(i)} - \\phi (z^{(i)})) ^ 2 $\n",
    "\n",
    " The main advantage of this continuous linear activation function, in contrast to the unit step function, is that the function becomes differentiable. We can use a very simple yet powerful optimization algorithm called **gradient descent** to find the weights that minimize our cost function.\n",
    "\n",
    "We can describe the idea behind the gradient descent as climibing down a hill until a local or global cost minimum is reached. In each iteration, we take a step in the opposite direction of the gradient, where the step size is defined by the value of the learning rate.}\n",
    "\n",
    "<p align=\"center\">\n",
    "  <img src=\"./markdown-images/gradeint_descent.png\" width=\"800\" />\n",
    "</p>\n"
   ]
  },
  {
   "cell_type": "markdown",
   "metadata": {},
   "source": [
    "Using the gradient descent, we can now update the weights by taking a step in the opposite direction of the gradient, $ \\nabla J(w) $, of our cost function $ J(w) $:\n",
    "$ w := w + \\Delta w $\n",
    "\n",
    "The weight change, $ \\Delta w $, is defined as the negative gradient multiplied by the learning rate, $ \\eta $:\n",
    "\n",
    "$ \\Delta w = - \\eta \\nabla J(w) $ \n",
    "\n",
    "To compute the gradinet of the cost function, we need to compute the partial derivative of the cost fucntion with respect to each weight, $ w_j $:\n",
    "\n",
    "$ \\frac{\\delta J}{\\delta w_j} = - \\sum_{i} (y ^ {(i)} - \\phi (z ^ {(i)})) x_j ^ {(i)}$\n",
    "\n",
    "So we can write the update weight $w_j$ as: <br/>\n",
    " $\\nabla w_j = - \\eta \\frac{\\delta J}{\\delta w_j} = \\eta \\sum_{i} (y ^ {(i)} - \\phi (z ^ {(i)})) x_j ^ {(i)}$\n",
    "\n",
    " Although the Adaline learning rule looks identical to the preceptron rule, we should note that $ \\phi (z ^ {(i)})$  with $z^{(i)} = w^T x^{(i)}$ is a real number and not an integer class label. Also, the weight is updated based on all exampleas in the traning dataset instead of updating the weights incrementally after each training example, which is why this approach is also referred to as **batch gradient descent**."
   ]
  },
  {
   "cell_type": "code",
   "execution_count": 27,
   "metadata": {},
   "outputs": [],
   "source": [
    "import pandas as pd\n",
    "import numpy as np\n",
    "import os\n",
    "\n",
    "filepath = os.path.join('./data', 'iris.data')\n",
    "df = pd.read_csv(filepath, header=None, encoding='utf-8') "
   ]
  },
  {
   "cell_type": "code",
   "execution_count": 28,
   "metadata": {},
   "outputs": [
    {
     "data": {
      "text/plain": [
       "array([-1, -1, -1, -1, -1, -1, -1, -1, -1, -1, -1, -1, -1, -1, -1, -1, -1,\n",
       "       -1, -1, -1, -1, -1, -1, -1, -1, -1, -1, -1, -1, -1, -1, -1, -1, -1,\n",
       "       -1, -1, -1, -1, -1, -1, -1, -1, -1, -1, -1, -1, -1, -1, -1, -1,  1,\n",
       "        1,  1,  1,  1,  1,  1,  1,  1,  1,  1,  1,  1,  1,  1,  1,  1,  1,\n",
       "        1,  1,  1,  1,  1,  1,  1,  1,  1,  1,  1,  1,  1,  1,  1,  1,  1,\n",
       "        1,  1,  1,  1,  1,  1,  1,  1,  1,  1,  1,  1,  1,  1,  1])"
      ]
     },
     "execution_count": 28,
     "metadata": {},
     "output_type": "execute_result"
    }
   ],
   "source": [
    "## Select the first 100 data\n",
    "labels = df.iloc[0:100, 4].values\n",
    "labels = np.where(labels == 'Iris-setosa', -1, 1)\n",
    "labels"
   ]
  },
  {
   "cell_type": "code",
   "execution_count": 29,
   "metadata": {},
   "outputs": [
    {
     "data": {
      "text/plain": [
       "array([[5.1, 1.4],\n",
       "       [4.9, 1.4],\n",
       "       [4.7, 1.3],\n",
       "       [4.6, 1.5],\n",
       "       [5. , 1.4],\n",
       "       [5.4, 1.7],\n",
       "       [4.6, 1.4],\n",
       "       [5. , 1.5],\n",
       "       [4.4, 1.4],\n",
       "       [4.9, 1.5],\n",
       "       [5.4, 1.5],\n",
       "       [4.8, 1.6],\n",
       "       [4.8, 1.4],\n",
       "       [4.3, 1.1],\n",
       "       [5.8, 1.2],\n",
       "       [5.7, 1.5],\n",
       "       [5.4, 1.3],\n",
       "       [5.1, 1.4],\n",
       "       [5.7, 1.7],\n",
       "       [5.1, 1.5],\n",
       "       [5.4, 1.7],\n",
       "       [5.1, 1.5],\n",
       "       [4.6, 1. ],\n",
       "       [5.1, 1.7],\n",
       "       [4.8, 1.9],\n",
       "       [5. , 1.6],\n",
       "       [5. , 1.6],\n",
       "       [5.2, 1.5],\n",
       "       [5.2, 1.4],\n",
       "       [4.7, 1.6],\n",
       "       [4.8, 1.6],\n",
       "       [5.4, 1.5],\n",
       "       [5.2, 1.5],\n",
       "       [5.5, 1.4],\n",
       "       [4.9, 1.5],\n",
       "       [5. , 1.2],\n",
       "       [5.5, 1.3],\n",
       "       [4.9, 1.5],\n",
       "       [4.4, 1.3],\n",
       "       [5.1, 1.5],\n",
       "       [5. , 1.3],\n",
       "       [4.5, 1.3],\n",
       "       [4.4, 1.3],\n",
       "       [5. , 1.6],\n",
       "       [5.1, 1.9],\n",
       "       [4.8, 1.4],\n",
       "       [5.1, 1.6],\n",
       "       [4.6, 1.4],\n",
       "       [5.3, 1.5],\n",
       "       [5. , 1.4],\n",
       "       [7. , 4.7],\n",
       "       [6.4, 4.5],\n",
       "       [6.9, 4.9],\n",
       "       [5.5, 4. ],\n",
       "       [6.5, 4.6],\n",
       "       [5.7, 4.5],\n",
       "       [6.3, 4.7],\n",
       "       [4.9, 3.3],\n",
       "       [6.6, 4.6],\n",
       "       [5.2, 3.9],\n",
       "       [5. , 3.5],\n",
       "       [5.9, 4.2],\n",
       "       [6. , 4. ],\n",
       "       [6.1, 4.7],\n",
       "       [5.6, 3.6],\n",
       "       [6.7, 4.4],\n",
       "       [5.6, 4.5],\n",
       "       [5.8, 4.1],\n",
       "       [6.2, 4.5],\n",
       "       [5.6, 3.9],\n",
       "       [5.9, 4.8],\n",
       "       [6.1, 4. ],\n",
       "       [6.3, 4.9],\n",
       "       [6.1, 4.7],\n",
       "       [6.4, 4.3],\n",
       "       [6.6, 4.4],\n",
       "       [6.8, 4.8],\n",
       "       [6.7, 5. ],\n",
       "       [6. , 4.5],\n",
       "       [5.7, 3.5],\n",
       "       [5.5, 3.8],\n",
       "       [5.5, 3.7],\n",
       "       [5.8, 3.9],\n",
       "       [6. , 5.1],\n",
       "       [5.4, 4.5],\n",
       "       [6. , 4.5],\n",
       "       [6.7, 4.7],\n",
       "       [6.3, 4.4],\n",
       "       [5.6, 4.1],\n",
       "       [5.5, 4. ],\n",
       "       [5.5, 4.4],\n",
       "       [6.1, 4.6],\n",
       "       [5.8, 4. ],\n",
       "       [5. , 3.3],\n",
       "       [5.6, 4.2],\n",
       "       [5.7, 4.2],\n",
       "       [5.7, 4.2],\n",
       "       [6.2, 4.3],\n",
       "       [5.1, 3. ],\n",
       "       [5.7, 4.1]])"
      ]
     },
     "execution_count": 29,
     "metadata": {},
     "output_type": "execute_result"
    }
   ],
   "source": [
    "features = df.iloc[0:100, [0,2]].values\n",
    "features"
   ]
  },
  {
   "cell_type": "code",
   "execution_count": 30,
   "metadata": {},
   "outputs": [
    {
     "data": {
      "image/png": "[encoded data removed]",
      "text/plain": [
       "<Figure size 432x288 with 1 Axes>"
      ]
     },
     "metadata": {
      "needs_background": "light"
     },
     "output_type": "display_data"
    }
   ],
   "source": [
    "import matplotlib.pyplot as plt\n",
    "plt.scatter(features[:50, 0], features[:50, 1], color='red', marker='o', label='setosa')\n",
    "plt.scatter(features[50:100, 0], features[50:100, 1], color='blue', marker='x', label='versicolor')\n",
    "plt.xlabel('sepal length[cm]')\n",
    "plt.ylabel('petal length [cm]')\n",
    "plt.legend(loc='upper left')\n",
    "plt.show()"
   ]
  },
  {
   "cell_type": "code",
   "execution_count": 31,
   "metadata": {},
   "outputs": [],
   "source": [
    "from sklearn.model_selection import train_test_split\n",
    "X_train, X_test, y_train, y_test = train_test_split(features, labels, random_state=0, train_size = .75)"
   ]
  },
  {
   "cell_type": "code",
   "execution_count": 32,
   "metadata": {},
   "outputs": [
    {
     "data": {
      "image/png": "[encoded data removed]",
      "text/plain": [
       "<Figure size 720x288 with 2 Axes>"
      ]
     },
     "metadata": {
      "needs_background": "light"
     },
     "output_type": "display_data"
    }
   ],
   "source": [
    "import matplotlib.pyplot as plt\n",
    "import numpy as np\n",
    "\n",
    "from adaline import AdalineGD\n",
    "\n",
    "fig, ax = plt.subplots(nrows=1, ncols=2, figsize=(10,4))\n",
    "\n",
    "ada1 = AdalineGD(learning_rate=0.01, n_iter=10).fit(X_train, y_train)\n",
    "\n",
    "ax[0].plot(range(1, len(ada1.cost_) + 1), np.log10(ada1.cost_), marker='o')\n",
    "ax[0].set_xlabel('Epochs')\n",
    "ax[0].set_ylabel('log(Sum-squared-error)')\n",
    "ax[0].set_title('Adaline learning rate 0.01')\n",
    "\n",
    "ada2 = AdalineGD(learning_rate=0.0001, n_iter=10).fit(X_train, y_train)\n",
    "\n",
    "ax[1].plot(range(1, len(ada2.cost_) + 1), np.log10(ada2.cost_), marker='o')\n",
    "ax[1].set_xlabel('Epochs')\n",
    "ax[1].set_ylabel('log(Sum-squared-error)')\n",
    "ax[1].set_title('Adaline learning rate 0.01')\n",
    "\n",
    "\n",
    "plt.show()"
   ]
  },
  {
   "cell_type": "code",
   "execution_count": 33,
   "metadata": {},
   "outputs": [],
   "source": [
    "def accuracy_metric(trained_perceptron, test_features, test_labels):\n",
    "    correct_predictions = 0\n",
    "    total_predictions = len(test_labels)\n",
    "    for X, label in zip(test_features, test_labels):\n",
    "        predicted_label = trained_perceptron.predict(X)\n",
    "        if label == predicted_label:\n",
    "            correct_predictions += 1\n",
    "    \n",
    "    accuracy = (correct_predictions/total_predictions) * 100\n",
    "    return accuracy"
   ]
  },
  {
   "cell_type": "code",
   "execution_count": 34,
   "metadata": {},
   "outputs": [
    {
     "name": "stdout",
     "output_type": "stream",
     "text": [
      "Accuracy = 48.0\n"
     ]
    }
   ],
   "source": [
    "accuracy = accuracy_metric(ada2, X_test, y_test)\n",
    "print(f\"Accuracy = {accuracy}\")"
   ]
  },
  {
   "cell_type": "markdown",
   "metadata": {},
   "source": [
    "#### Improving gradient descent through feature scaling\n",
    "\n",
    "**Feature Scaling** is a statistical technique which scales the features of our data so that they all have a similar range.\n",
    "\n",
    "Here, we will use feature scaling method called **standardization**, which gives our data the properties of a standerd normal distribution. This normalization technique helps gradient descent to converge more quickly; however, it does not make the original dataset normally distributed. Standarizaton shifts the mean of each feature so that it is centered at zero and each feature has a standard deviationof 1 (unit variance). For instance, to standaridize the $jth$ feature, we can simply subtract the sample mean, $\\mu_j$ from every trainig example and divide it by its standard deviation, $\\sigma_j$\n",
    "\n",
    "$x_j ^{'} = \\frac{x_j - \\mu_j}{\\sigma_j}$\n",
    "\n",
    "One of the reasons why standardization helps with gradinet descent is that the optimzer has to go through fewer steps to find the good or optimal solution.\n",
    "\n"
   ]
  },
  {
   "cell_type": "markdown",
   "metadata": {},
   "source": []
  },
  {
   "cell_type": "code",
   "execution_count": 35,
   "metadata": {},
   "outputs": [],
   "source": [
    "X_std = np.copy(X_train)\n",
    "# X_train[:,0].mean()\n",
    "# X_train[:, 0].std()\n",
    "X_std[:, 0] = (X_train[:, 0] - X_train[:, 0].mean() ) / X_train[:, 0].std()\n",
    "X_std[:, 1] = (X_train[:, 1] - X_train[:, 1].mean() ) / X_train[:, 1].std()"
   ]
  },
  {
   "cell_type": "code",
   "execution_count": 36,
   "metadata": {},
   "outputs": [
    {
     "data": {
      "text/plain": [
       "<adaline.AdalineGD at 0x7f7732506a30>"
      ]
     },
     "execution_count": 36,
     "metadata": {},
     "output_type": "execute_result"
    }
   ],
   "source": [
    "ada_gd = AdalineGD(n_iter=15, learning_rate=0.01)\n",
    "ada_gd.fit(X_std, y_train)"
   ]
  },
  {
   "cell_type": "code",
   "execution_count": 37,
   "metadata": {},
   "outputs": [
    {
     "data": {
      "image/png": "[encoded data removed]",
      "text/plain": [
       "<Figure size 432x288 with 1 Axes>"
      ]
     },
     "metadata": {
      "needs_background": "light"
     },
     "output_type": "display_data"
    }
   ],
   "source": [
    "import matplotlib.pyplot as plt\n",
    "\n",
    "\n",
    "plt.plot(range(1, len(ada_gd.cost_) + 1 ), ada_gd.cost_, marker='o')\n",
    "plt.xlabel('Epochs')\n",
    "plt.ylabel('Sum squared error')\n",
    "plt.tight_layout()\n",
    "plt.show()"
   ]
  },
  {
   "cell_type": "markdown",
   "metadata": {},
   "source": [
    "Here, we can see that the Adaline has now converged adter training on the standarized features using a learning rate of $\\eta = 0.01$"
   ]
  }
 ],
 "metadata": {
  "interpreter": {
   "hash": "eb6fa1767a1e71d85bec8c42f873ca19270f8f93bde4e75d65e361f3717e7f94"
  },
  "kernelspec": {
   "display_name": "Python 3.8.10 ('env': venv)",
   "language": "python",
   "name": "python3"
  },
  "language_info": {
   "codemirror_mode": {
    "name": "ipython",
    "version": 3
   },
   "file_extension": ".py",
   "mimetype": "text/x-python",
   "name": "python",
   "nbconvert_exporter": "python",
   "pygments_lexer": "ipython3",
   "version": "3.8.10"
  },
  "orig_nbformat": 4
 },
 "nbformat": 4,
 "nbformat_minor": 2
}

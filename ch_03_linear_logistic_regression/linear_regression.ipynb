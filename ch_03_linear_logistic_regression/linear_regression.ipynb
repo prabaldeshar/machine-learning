{
 "cells": [
  {
   "cell_type": "markdown",
   "metadata": {},
   "source": [
    "#### Linear regression\n",
    "\n",
    "Linear regression is a type of supervised machine learning algorithms which predicts number from a given set of inputs.\n",
    "\n",
    "Linear regression fits a linear model through a set of data points to estimate the relationship betweeen the target outcome label and one or more feature varibales in order to predict a numeric value.\n",
    "\n",
    "Linear regression places a straight line through the data. \n"
   ]
  },
  {
   "cell_type": "markdown",
   "metadata": {},
   "source": [
    "Suppose we have a sets of data, where x -axis reprents the study time and y - axis represents the score in the exam.\n",
    "<br/>\n",
    "\n",
    "<!-- ![preceptron-diagram](../markdown-images/graph_study_time_score.png)  -->\n",
    "\n",
    "<p align=\"center\">\n",
    "  <img src=\"../markdown-images/graph_study_time_score.png\" width=\"500\">\n",
    "</p"
   ]
  },
  {
   "cell_type": "markdown",
   "metadata": {},
   "source": [
    "Using linear regression we can fit a straight line from the training exampels which might look like the following.\n",
    "<br/>\n",
    "<p align=\"center\">\n",
    "  <img src=\"../markdown-images/fitted_line_edited.png\" width=\"700\">\n",
    "</p>"
   ]
  },
  {
   "cell_type": "markdown",
   "metadata": {},
   "source": [
    "Here, the equation/ function for linear regrssion can be represented as:\n",
    "\n",
    "$f(x) = wx + b $ "
   ]
  },
  {
   "cell_type": "markdown",
   "metadata": {},
   "source": [
    "#### Cost function\n",
    "\n",
    "In order to implement linear regression we first need to define a cost function. The cost function tells us how well our linear regression model is performing.\n",
    "<br/>\n",
    "\n",
    "$\\hat y ^ {(i)} = f_{w, b} (x ^ {(i)})$ \n",
    "\n",
    "$f_{w, b} (x^{(i)}) = wx^{(i)} + b$ \n",
    "<br/>\n",
    "\n",
    "Squared error cost function\n",
    "\n",
    "$J(w, b) = \\frac{1}{2m} \\sum_{i=1} ^ {m} (\\hat y ^ {(i)} - y ^ {(i)}) ^ 2 $\n",
    "<br/>\n",
    "where, <br/>\n",
    "$\\hat y ^ {(i)}$ = predicted value for the ith training example\n",
    "\n"
   ]
  },
  {
   "cell_type": "markdown",
   "metadata": {},
   "source": [
    "#### Minimizing the cost function using Gradient descent\n",
    "\n",
    "Gradeint descent is used to minimize the cost function by updating the weights and biases to the opposite direction of steepest ascent.\n",
    "\n",
    "Outline:\n",
    "1. Start with some w, b (set w=0 and b=0)\n",
    "1. Keep changing w, b to reduce $J(w,b)$\n",
    "1. Repeat step 2 until we settle at at near a minumum value of loss function\n",
    "\n",
    "\n",
    "The weights and bias can be updated as:\n",
    "\n",
    "$w = w - \\alpha \\frac{\\delta}{\\delta w} J(w,b)  $ <br/>\n",
    "\n",
    "$b = b - \\alpha \\frac{\\delta}{\\delta b} J(w,b)  $ <br/>\n",
    "\n",
    "After taking the partial dervivate of J(w,b) the above equation becomes:\n",
    "\n",
    "$w = w - \\alpha \\frac{\\delta}{\\delta w} J(w,b)  =  w - \\alpha(\\frac{1}{m} \\sum_{i=1}^{m} (f_{w, b}(x^{(i)})- y^{(i)})x^{i})) $ <br/>\n",
    "\n",
    "$b = b - \\alpha \\frac{\\delta}{\\delta b} J(w,b) = b - \\alpha(\\frac{1}{m} \\sum_{i=1}^{m} (f_{w, b}(x^{(i)})- y^{(i)}))) $ <br/>\n",
    "\n",
    "The parameters `w` and `b` are updated simultaneously.\n",
    "\n",
    "where, <br/>\n",
    "\n",
    "$\\alpha$ is the learning rate.\n",
    "\n",
    "\n"
   ]
  },
  {
   "cell_type": "markdown",
   "metadata": {},
   "source": [
    "#### Implementation using Python"
   ]
  },
  {
   "cell_type": "markdown",
   "metadata": {},
   "source": [
    "Importing necessary packages"
   ]
  },
  {
   "cell_type": "code",
   "execution_count": 1,
   "metadata": {},
   "outputs": [],
   "source": [
    "import pandas as pd\n",
    "import matplotlib.pyplot as plt"
   ]
  },
  {
   "cell_type": "markdown",
   "metadata": {},
   "source": [
    "Loading the data"
   ]
  },
  {
   "cell_type": "code",
   "execution_count": 2,
   "metadata": {},
   "outputs": [
    {
     "data": {
      "text/html": [
       "<div>\n",
       "<style scoped>\n",
       "    .dataframe tbody tr th:only-of-type {\n",
       "        vertical-align: middle;\n",
       "    }\n",
       "\n",
       "    .dataframe tbody tr th {\n",
       "        vertical-align: top;\n",
       "    }\n",
       "\n",
       "    .dataframe thead th {\n",
       "        text-align: right;\n",
       "    }\n",
       "</style>\n",
       "<table border=\"1\" class=\"dataframe\">\n",
       "  <thead>\n",
       "    <tr style=\"text-align: right;\">\n",
       "      <th></th>\n",
       "      <th>Hours</th>\n",
       "      <th>Scores</th>\n",
       "    </tr>\n",
       "  </thead>\n",
       "  <tbody>\n",
       "    <tr>\n",
       "      <th>23</th>\n",
       "      <td>6.9</td>\n",
       "      <td>76</td>\n",
       "    </tr>\n",
       "    <tr>\n",
       "      <th>24</th>\n",
       "      <td>7.8</td>\n",
       "      <td>86</td>\n",
       "    </tr>\n",
       "    <tr>\n",
       "      <th>25</th>\n",
       "      <td>1.3</td>\n",
       "      <td>19</td>\n",
       "    </tr>\n",
       "    <tr>\n",
       "      <th>26</th>\n",
       "      <td>2.6</td>\n",
       "      <td>30</td>\n",
       "    </tr>\n",
       "    <tr>\n",
       "      <th>27</th>\n",
       "      <td>6.1</td>\n",
       "      <td>63</td>\n",
       "    </tr>\n",
       "  </tbody>\n",
       "</table>\n",
       "</div>"
      ],
      "text/plain": [
       "    Hours  Scores\n",
       "23    6.9      76\n",
       "24    7.8      86\n",
       "25    1.3      19\n",
       "26    2.6      30\n",
       "27    6.1      63"
      ]
     },
     "execution_count": 2,
     "metadata": {},
     "output_type": "execute_result"
    }
   ],
   "source": [
    "data = pd.read_csv('../data/study_hrs_score.csv')\n",
    "data.tail()"
   ]
  },
  {
   "cell_type": "markdown",
   "metadata": {},
   "source": [
    "Visualizing the data"
   ]
  },
  {
   "cell_type": "code",
   "execution_count": 3,
   "metadata": {},
   "outputs": [
    {
     "data": {
      "image/png": "[encoded data removed]",
      "text/plain": [
       "<Figure size 432x288 with 1 Axes>"
      ]
     },
     "metadata": {
      "needs_background": "light"
     },
     "output_type": "display_data"
    }
   ],
   "source": [
    "plt.scatter(data.Hours, data.Scores)\n",
    "plt.xlabel('Study-Time')\n",
    "plt.ylabel('Score')\n",
    "plt.grid(axis='y')\n",
    "plt.show()"
   ]
  },
  {
   "cell_type": "markdown",
   "metadata": {},
   "source": [
    "Defining the predict method"
   ]
  },
  {
   "cell_type": "code",
   "execution_count": 4,
   "metadata": {},
   "outputs": [],
   "source": [
    "def predict(m, b, x):\n",
    "    return m*x + b"
   ]
  },
  {
   "cell_type": "markdown",
   "metadata": {},
   "source": [
    "Defining the loss function"
   ]
  },
  {
   "cell_type": "code",
   "execution_count": 5,
   "metadata": {},
   "outputs": [],
   "source": [
    "def loss_function(m, b, points):\n",
    "    total_error = 0\n",
    "    for i in range(len(points)):\n",
    "        x = points.iloc[i].Hours\n",
    "        y = points.iloc[i].Score\n",
    "        total_error += ((y - (m *x + b)) **2 ) / 2\n",
    "    \n",
    "    total_error / float(len(points))\n"
   ]
  },
  {
   "cell_type": "code",
   "execution_count": null,
   "metadata": {},
   "outputs": [],
   "source": []
  },
  {
   "cell_type": "markdown",
   "metadata": {},
   "source": [
    "Defining the gradient descent function"
   ]
  },
  {
   "cell_type": "code",
   "execution_count": 6,
   "metadata": {},
   "outputs": [],
   "source": [
    "def gradient_descent(m_now, b_now, points, learning_rate):\n",
    "    m_gradient = 0\n",
    "    b_gradeint = 0\n",
    "\n",
    "    n = len(points)\n",
    "\n",
    "    for i in range(n):\n",
    "        x = points.iloc[i].Hours\n",
    "        y = points.iloc[i].Scores\n",
    "\n",
    "        m_gradient += -(1/n) * x * (y - (m_now *x  + b_now))\n",
    "        b_gradeint += -(1/n) * (y - (m_now *x  + b_now))\n",
    "    \n",
    "    m = m_now - m_gradient * learning_rate\n",
    "    b = b_now - b_gradeint * learning_rate\n",
    "\n",
    "    return m, b"
   ]
  },
  {
   "cell_type": "code",
   "execution_count": 7,
   "metadata": {},
   "outputs": [
    {
     "name": "stdout",
     "output_type": "stream",
     "text": [
      "9.88770131396897 1.9256129814126135\n"
     ]
    },
    {
     "data": {
      "image/png": "[encoded data removed]",
      "text/plain": [
       "<Figure size 432x288 with 1 Axes>"
      ]
     },
     "metadata": {
      "needs_background": "light"
     },
     "output_type": "display_data"
    }
   ],
   "source": [
    "m = 0\n",
    "b = 0\n",
    "learning_rate = 0.001\n",
    "epoches = 1000\n",
    "\n",
    "for i in range(epoches):\n",
    "    m, b = gradient_descent(m, b, data, learning_rate)\n",
    "\n",
    "print(m, b)\n",
    "\n",
    "plt.scatter(data.Hours, data.Scores, color='blue')\n",
    "plt.plot(list(range(1,10)), [m * x + b for x in range(1, 10)], color='red')\n",
    "plt.grid(axis='y')\n",
    "plt.xlabel('Study Time (hrs)')\n",
    "plt.ylabel('Score')\n",
    "plt.show()"
   ]
  },
  {
   "cell_type": "code",
   "execution_count": 8,
   "metadata": {},
   "outputs": [],
   "source": [
    "class LinearRegression:\n",
    "    m: float = 0.0\n",
    "    b: float = 0.0\n",
    "\n",
    "    def __init__(self, epoches: int = 1000, learning_rate: float = 0.001):\n",
    "        self.epoches = epoches\n",
    "        self.learning_rate = learning_rate\n",
    "    \n",
    "    def predict(self, x):\n",
    "        return ((self.m * x) + self.b)\n",
    "    \n",
    "    def gradient_descent(self, points):\n",
    "        for i in range(self.epoches):\n",
    "            m_now = self.m\n",
    "            b_now = self.b\n",
    "            m_gradient = 0\n",
    "            b_gradeint = 0\n",
    "\n",
    "            n = len(points)\n",
    "            \n",
    "            for i in range(n):\n",
    "                x = points.iloc[i].Hours\n",
    "                y = points.iloc[i].Scores\n",
    "\n",
    "                m_gradient += -(1/n) * x * (y - self.predict(x))\n",
    "                b_gradeint += -(1/n) * (y - self.predict(x))\n",
    "            \n",
    "            self.m = m_now - m_gradient * self.learning_rate\n",
    "            self.b = b_now - b_gradeint * self.learning_rate\n",
    "\n",
    "        return self.m, self.b\n",
    "    \n",
    "    \n"
   ]
  },
  {
   "cell_type": "code",
   "execution_count": 9,
   "metadata": {},
   "outputs": [],
   "source": [
    "linear_reg = LinearRegression(epoches=1000, learning_rate=0.001)\n",
    "m, b = linear_reg.gradient_descent(data)"
   ]
  },
  {
   "cell_type": "code",
   "execution_count": 10,
   "metadata": {},
   "outputs": [
    {
     "name": "stdout",
     "output_type": "stream",
     "text": [
      "9.88770131396897 1.9256129814126135\n"
     ]
    }
   ],
   "source": [
    "print(m,b)"
   ]
  },
  {
   "cell_type": "code",
   "execution_count": 15,
   "metadata": {},
   "outputs": [
    {
     "data": {
      "text/plain": [
       "11.813314295381584"
      ]
     },
     "execution_count": 15,
     "metadata": {},
     "output_type": "execute_result"
    }
   ],
   "source": [
    "linear_reg.predict(1)"
   ]
  },
  {
   "cell_type": "code",
   "execution_count": null,
   "metadata": {},
   "outputs": [],
   "source": []
  }
 ],
 "metadata": {
  "interpreter": {
   "hash": "a0b861b958386a48656654f1d4ce43c1915526fafbd7bc89691cabf17c87de9e"
  },
  "kernelspec": {
   "display_name": "Python 3.8.10 ('env': venv)",
   "language": "python",
   "name": "python3"
  },
  "language_info": {
   "codemirror_mode": {
    "name": "ipython",
    "version": 3
   },
   "file_extension": ".py",
   "mimetype": "text/x-python",
   "name": "python",
   "nbconvert_exporter": "python",
   "pygments_lexer": "ipython3",
   "version": "3.8.10"
  },
  "orig_nbformat": 4,
  "vscode": {
   "interpreter": {
    "hash": "eb6fa1767a1e71d85bec8c42f873ca19270f8f93bde4e75d65e361f3717e7f94"
   }
  }
 },
 "nbformat": 4,
 "nbformat_minor": 2
}

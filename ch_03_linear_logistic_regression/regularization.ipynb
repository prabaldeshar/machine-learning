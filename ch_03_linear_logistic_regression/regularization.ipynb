{
 "cells": [
  {
   "cell_type": "markdown",
   "metadata": {},
   "source": [
    "#### Tackling overfitting via regularization\n",
    "\n",
    "Overfitting is a common problem in machine learning, where a machine performs well on training data but does not generalize well to unseen data(test data). If a model suffers from **overfitting** we can also say the the model has high variance, which can be cause by having too many parameters, leading to a model that is tool complex to the underlying data. Similarly, out model can also suffer from **underfitting**(high bias), which means that our model is not too complex enough to capture the pattern in the training data well and therefore performs poorly on unseen data. \n",
    "\n",
    "Often, reserchers use the term \"bias\" and \"variance\" or \"bias-variance tradeoff\" to describe the performance of the model. In the context of machine learning models, **variance** measures the consistency (or variability) of the model prediction for classifying a particular example if we retrain the model multiple times, for example, on differnet subsets of the training dataset. We can say that the model is sensitive to the randomness in the training data. In contrast, **bias** measures how far off the predections are from the correct value.\n",
    "\n",
    "<p align=\"center\">\n",
    "  <img src=\"../markdown-images/overfitting.png\" width=\"700\">\n",
    "</p>\n",
    "\n",
    "<h5> Addressing overfitting </h5> \n",
    "\n",
    "1. Collect more training data.\n",
    "\n",
    "2. Reduce the number of features\n",
    "  - Manually select which features to keep\n",
    "\n",
    "3. Regularization\n",
    "  - Keep all the features, but reduct magnitude/values of parameters $\\theta_j$.\n",
    "  - Works well when we have a lot of features, each of which contribute a bit to predicting $y$.\n",
    "\n",
    "One way of finding a good bias-variance tradeoff is to tune the complexity of the model via regularization. \n",
    "\n",
    "The concept behind regularization is to introduce additional information (bias) to peanalize extreme parameter (weight) values. The most common form of regularization is **L2 regularization**, which can be written as follows: <br/>\n",
    "\n",
    "$ \\frac{ \\lambda }{2}||w||^2 = \\frac{1}{2} \\sum_{j=1}^{m} w_j^2$  <br/>\n",
    "\n",
    "Here, $\\lambda$ is the so-called **regularization parameter**.\n",
    "\n",
    "The cost function for logistic regression can be regularized by adding a simple regularization term, which will shrink the weights during the model training: <br/>\n",
    "\n",
    "$J(w) = \\sum_{i=1}^{n} [-y^{(i)}log(\\phi(z^{(i)})) - (1-y^{(i)})log(1-\\phi(z^{(i)}))] + \\frac{\\lambda}{2}||w||^2  $\n",
    "<br/>\n",
    "Using the regularization parameter, $\\lambda$, we can then control how well we fit the training data, while keeping the weights small. By increasing the value of  $\\lambda$, we can increase the regularization strength.\n"
   ]
  },
  {
   "cell_type": "markdown",
   "metadata": {},
   "source": [
    "The parameter, `C`, that is implemented for the `LogisticRegression` class in scikit-learn comes from a convention in support vector machine. The term `C` is directly related to the regularization parameter $\\lambda$, which is its inverse. Consequently, decreasing the value of the inverse regularization parameter, `C`, means that we are increasing the regularization strength, which we can visualize by plotting L2 regularization path for the two weight coefficients:"
   ]
  },
  {
   "cell_type": "code",
   "execution_count": 1,
   "metadata": {},
   "outputs": [
    {
     "name": "stdout",
     "output_type": "stream",
     "text": [
      "Class labels:  [0 1 2]\n"
     ]
    }
   ],
   "source": [
    "from sklearn import datasets\n",
    "import numpy as np\n",
    "\n",
    "iris = datasets.load_iris()\n",
    "X = iris.data[:, [2,3]]\n",
    "y = iris.target\n",
    "print('Class labels: ', np.unique(y))"
   ]
  },
  {
   "cell_type": "code",
   "execution_count": 2,
   "metadata": {},
   "outputs": [],
   "source": [
    "from sklearn.model_selection import train_test_split\n",
    "\n",
    "X_train, X_test, y_train, y_test = train_test_split(X, y, test_size=0.3, random_state=1, stratify=y)"
   ]
  },
  {
   "cell_type": "code",
   "execution_count": 3,
   "metadata": {},
   "outputs": [],
   "source": [
    "from sklearn.preprocessing import StandardScaler\n",
    "\n",
    "sc = StandardScaler()\n",
    "\n",
    "sc.fit(X_train)\n",
    "\n",
    "X_train_std = sc.transform(X_train)\n",
    "\n",
    "X_test_std = sc.transform(X_test)"
   ]
  },
  {
   "cell_type": "code",
   "execution_count": 4,
   "metadata": {},
   "outputs": [],
   "source": [
    "import numpy as np\n",
    "from sklearn.linear_model import LogisticRegression\n",
    "\n",
    "weights, params = [], []\n",
    "for c in np.arange(-5, 5):\n",
    "    lr = LogisticRegression(C=10.**c, random_state=1, solver='lbfgs', multi_class='ovr')\n",
    "    lr.fit(X_train_std, y_train)\n",
    "    weights.append(lr.coef_[1])\n",
    "    params.append(10.**c)\n",
    "\n",
    "weights = np.array(weights)"
   ]
  },
  {
   "cell_type": "code",
   "execution_count": 8,
   "metadata": {},
   "outputs": [
    {
     "data": {
      "image/png": "[encoded data removed]",
      "text/plain": [
       "<Figure size 432x288 with 1 Axes>"
      ]
     },
     "metadata": {
      "needs_background": "light"
     },
     "output_type": "display_data"
    }
   ],
   "source": [
    "import matplotlib.pyplot as plt\n",
    "\n",
    "plt.plot(params, weights[:, 0], label='petal length')\n",
    "plt.plot(params, weights[:, 1], linestyle='--', label='petal width')\n",
    "plt.ylabel('weight coefficient')\n",
    "plt.xlabel('C')\n",
    "plt.legend(loc='upper left')\n",
    "plt.xscale('log')\n",
    "plt.show()"
   ]
  },
  {
   "cell_type": "code",
   "execution_count": null,
   "metadata": {},
   "outputs": [],
   "source": []
  }
 ],
 "metadata": {
  "kernelspec": {
   "display_name": "Python 3.8.10 ('env': venv)",
   "language": "python",
   "name": "python3"
  },
  "language_info": {
   "codemirror_mode": {
    "name": "ipython",
    "version": 3
   },
   "file_extension": ".py",
   "mimetype": "text/x-python",
   "name": "python",
   "nbconvert_exporter": "python",
   "pygments_lexer": "ipython3",
   "version": "3.8.10"
  },
  "orig_nbformat": 4,
  "vscode": {
   "interpreter": {
    "hash": "eb6fa1767a1e71d85bec8c42f873ca19270f8f93bde4e75d65e361f3717e7f94"
   }
  }
 },
 "nbformat": 4,
 "nbformat_minor": 2
}

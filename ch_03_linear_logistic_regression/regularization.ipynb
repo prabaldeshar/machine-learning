{
 "cells": [
  {
   "cell_type": "markdown",
   "metadata": {},
   "source": [
    "#### Tackling overfitting via regularization\n",
    "\n",
    "Overfitting is a common problem in machine learning, where a machine performs well on training data but does not generalize well to unseen data(test data). If a model suffers from **overfitting** we can also say the the model has high variance, which can be cause by having too many parameters, leading to a model that is tool complex to the underlying data. Similarly, out model can also suffer from **underfitting**(high bias), which means that our model is not too complex enough to capture the pattern in the training data well and therefore performs poorly on unseen data. \n",
    "\n",
    "Often, reserchers use the term \"bias\" and \"variance\" or \"bias-variance tradeoff\" to describe the performance of the model. In the context of machine learning models, **variance** measures the consistency (or variability) of the model prediction for classifying a particular example if we retrain the model multiple times, for example, on differnet subsets of the training dataset. We can say that the model is sensitive to the randomness in the training data. In contrast, **bias** measures how far off the predections are from the correct value.\n",
    "\n",
    "<p align=\"center\">\n",
    "  <img src=\"../markdown-images/overfitting.png\" width=\"700\">\n",
    "</p>\n",
    "\n",
    "Addressing overfitting <br/>\n",
    "\n",
    "1. Reduce the number of features\n",
    "  - Manually select which features to keep\n",
    "  - Model selection algorithm\n",
    "\n",
    "2. Regularization\n",
    "  - Keep all the features, but reduct magnitude/values of parameters $\\theta_j$.\n",
    "  - Works well when we have a lot of features, each of which contribute a bit to predicting $y$.\n",
    "\n",
    "One way of finding a good bias-variance tradeoff is to tune the complexity of the model via regularization. "
   ]
  },
  {
   "cell_type": "code",
   "execution_count": null,
   "metadata": {},
   "outputs": [],
   "source": []
  }
 ],
 "metadata": {
  "language_info": {
   "name": "python"
  },
  "orig_nbformat": 4
 },
 "nbformat": 4,
 "nbformat_minor": 2
}

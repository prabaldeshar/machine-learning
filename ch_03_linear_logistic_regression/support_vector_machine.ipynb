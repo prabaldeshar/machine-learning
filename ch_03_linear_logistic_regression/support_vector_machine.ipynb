{
 "cells": [
  {
   "cell_type": "markdown",
   "metadata": {},
   "source": [
    "## Maximum margin classification with support vector machine(SVM)\n",
    "\n",
    "In SVMs our optimization objective is to maximize the margin. The margin is defined as the distance between the seperating hyperplane and the training examples that are closet to this hyper plane, which are the so-called **support vector**. <br/>\n",
    "\n",
    "<p align=\"center\">\n",
    "  <img src=\"../markdown-images/maximum_margin.png\" width=\"700\">\n",
    "</p>"
   ]
  },
  {
   "cell_type": "markdown",
   "metadata": {},
   "source": [
    "### Hyperplane\n",
    "\n",
    "We use hyperplane to seperate the multi-dimesional data. \n",
    "Let's first look at the two dimensional case first. The two-dimensioanl linearly sperable data can be seperated by a line. The function of a line is $y = ax + b$. We can rename x with x1 and y with  x2 and we get. <br/>\n",
    "\n",
    "$ax_1 - x_2 + b = 0$ <br/>\n",
    "\n",
    "If we define x = $(x_1, x_2)$ and w = $(a, -1)$ we get, <br/>\n",
    "\n",
    "$w.x + b = 0$ <br/>\n",
    "\n",
    "This is the equation of a hyperplane."
   ]
  },
  {
   "cell_type": "markdown",
   "metadata": {},
   "source": []
  },
  {
   "cell_type": "markdown",
   "metadata": {},
   "source": [
    "### Classifier\n",
    "\n",
    "Once we have the hyperplane, we can then use the hyperplane to make predictions. We define the hypothesis function $h$ as: <br/>\n",
    "\n",
    "$\n",
    "h(x_i) = \\begin{cases}\n",
    "  +1 if w.x + b \\ge 0 \\\\\n",
    "  -1  if w.x + b \\le 0\n",
    "\\end{cases}\n",
    "$\n",
    "<p align=\"center\">\n",
    "  <img src=\"../markdown-images/hyperplanes.png\" width=\"500\">\n",
    "</p>\n",
    "<br/>\n",
    "The point above the hyperplane will be classifed as class +1, and the point below the hyperplane will be classifed as class -1.\n",
    "\n",
    "The points on the plane $H_1$ and $H_2$ are the **support vectors**. The plane $H_0$ is the medain in between, where $w.x_i + b = 0$\n",
    " \n",
    "d+ = the shortest distance to the closet positive point <br/>\n",
    "d- = the shortest distance to the closet negative point\n",
    "\n",
    "The goal of SVM algorithm is to find a hyperplane which could seperate the data accurately. There might be many such hyperplanes and we need to find the best one.\n",
    "\n",
    "The distance between $H_1$ and $H_0$ is then:\n",
    "$\\frac{|w.x + b|}{||w||} = \\frac{1}{||w||}$\n",
    "<br/>\n",
    "The total distance between $H_1$ and $H_2$ is thus : $\\frac{2}{||w||}$ <br/>\n",
    "\n",
    "In order to maximize the margin, we thus need to minimize ||w||."
   ]
  },
  {
   "cell_type": "markdown",
   "metadata": {},
   "source": [
    "### Maximum margin intuition\n",
    "\n",
    "The rationale behind having decison boundaries with large margins is that they tend to have a lower generalization error, whereas models with small margins are more prone to overfitting. "
   ]
  },
  {
   "cell_type": "markdown",
   "metadata": {},
   "source": [
    "\n",
    "We must minimize $||w||$, such that the discrimination boundry is obeyed. i.e $g(x) = y_i(w.x_i+b) \\ge 0$. We can re write this as: <br/>\n",
    "\n",
    "$min f:\\frac{1}{2}||w||^2 s.t.\\\\ g:y_i(w.x_i + b) \\ge 1 or \\\\g:[y_i(w.x_i + b)] -1 \\ge 0$ <br/>\n",
    "\n",
    "This is a **constrained optimization problem**. It can be solved by the Lagrangian multipler method."
   ]
  },
  {
   "cell_type": "markdown",
   "metadata": {},
   "source": [
    "### SVM Lagrange\n",
    "Lagrange stated that if we want to find the minimum of **$f$** under the equality constraint **$g$**, we need to solve for: <br/>\n",
    "\n",
    "$\\nabla f(x) - \\alpha \\nabla g(x) = 0$ <br/>\n",
    "\n",
    "In terms of SVM optimization problem, $f(w) = \\frac{1}{2} ||w||^2$ <br/><br/>\n",
    "$g(w,b) = y_i(w.x+b) -1$, i = 1...m. Then the Lagrangian function is <br/><br/>\n",
    "$L(w,b,\\alpha) = \\frac{1}{2}||w||^2 - \\sum_{i=1}^{m} \\alpha _i[y_i(w.x+b) -1]$"
   ]
  },
  {
   "cell_type": "code",
   "execution_count": 8,
   "metadata": {},
   "outputs": [],
   "source": [
    "# Loading the data\n",
    "import pandas as pd\n",
    "import numpy as np\n",
    "import os\n",
    "\n",
    "filepath = os.path.join('../data', 'iris.data')\n",
    "df = pd.read_csv(filepath, header=None, encoding='utf-8') \n",
    "\n",
    "## Select the first 100 data\n",
    "y = df.iloc[0:100, 4].values\n",
    "y = np.where(y == 'Iris-setosa', 0, 1)\n",
    "\n",
    "\n",
    "X = df.iloc[0:100, [0,2]].values\n"
   ]
  },
  {
   "cell_type": "code",
   "execution_count": 9,
   "metadata": {},
   "outputs": [
    {
     "data": {
      "image/png": "[encoded data removed]",
      "text/plain": [
       "<Figure size 432x288 with 1 Axes>"
      ]
     },
     "metadata": {
      "needs_background": "light"
     },
     "output_type": "display_data"
    }
   ],
   "source": [
    "import matplotlib.pyplot as plt\n",
    "plt.scatter(X[:50, 0], X[:50, 1], color='red', marker='o', label='setosa')\n",
    "plt.scatter(X[50:100, 0], X[50:100, 1], color='blue', marker='x', label='versicolor')\n",
    "plt.xlabel('sepal length[cm]')\n",
    "plt.ylabel('petal length [cm]')\n",
    "plt.legend(loc='upper left')\n",
    "plt.show()"
   ]
  },
  {
   "cell_type": "code",
   "execution_count": 11,
   "metadata": {},
   "outputs": [
    {
     "data": {
      "image/png": "[encoded data removed]",
      "text/plain": [
       "<Figure size 432x288 with 1 Axes>"
      ]
     },
     "metadata": {
      "needs_background": "light"
     },
     "output_type": "display_data"
    }
   ],
   "source": [
    "from mlxtend.plotting import plot_decision_regions\n",
    "import matplotlib.pyplot as plt\n",
    "from sklearn import datasets\n",
    "from sklearn.svm import SVC\n",
    "\n",
    "# Training a classifier\n",
    "svm = SVC(C=0.5, kernel='linear')\n",
    "svm.fit(X, y)\n",
    "\n",
    "# Plotting decision regions\n",
    "plot_decision_regions(X, y, clf=svm)\n",
    "\n",
    "# Adding axes annotations\n",
    "plt.xlabel('sepal length [cm]')\n",
    "plt.ylabel('petal length [cm]')\n",
    "plt.title('SVM on Iris')\n",
    "\n",
    "plt.show()"
   ]
  },
  {
   "cell_type": "markdown",
   "metadata": {},
   "source": [
    "### Refrences\n",
    "\n",
    "[Lecture Notes](http://www.cs.cornell.edu/courses/cs4780/2018fa/lectures/lecturenote09.html)"
   ]
  }
 ],
 "metadata": {
  "kernelspec": {
   "display_name": "Python 3.8.10 ('env': venv)",
   "language": "python",
   "name": "python3"
  },
  "language_info": {
   "codemirror_mode": {
    "name": "ipython",
    "version": 3
   },
   "file_extension": ".py",
   "mimetype": "text/x-python",
   "name": "python",
   "nbconvert_exporter": "python",
   "pygments_lexer": "ipython3",
   "version": "3.8.10"
  },
  "orig_nbformat": 4,
  "vscode": {
   "interpreter": {
    "hash": "eb6fa1767a1e71d85bec8c42f873ca19270f8f93bde4e75d65e361f3717e7f94"
   }
  }
 },
 "nbformat": 4,
 "nbformat_minor": 2
}

{
 "cells": [
  {
   "cell_type": "markdown",
   "metadata": {},
   "source": [
    "\n",
    "Shortcoming of Linear Regrssion\n",
    "\n",
    "<p align=\"center\">\n",
    "  <img src=\"../markdown-images/linear_reg_shortcoming.png\" width=\"700\">\n",
    "</p>\n",
    "\n"
   ]
  },
  {
   "cell_type": "markdown",
   "metadata": {},
   "source": [
    "#### Logistic regression\n",
    "\n",
    "The goal of binary logistic regression is to train a classifier that can make a binary decision about the class of a new input observation. Here the **sigmoid** classifier is introduced to help us make this decision.\n",
    "\n",
    "Consider a single input observation $x$, which we will represent by a vector of feautres $[x_1, x_2, ...,x_n]$. The classifier output $y$ can be 1 (meaning the observation is the member of the class) or 0(the observation is not a memeber of the class). We want to know the probability $P(y=1|x)$ that this observation is a member of the class.\n",
    "\n",
    "Logistic regression solves this task by learning, from a training set, a vector of **weights** and a **bias** term. Each weight is $w_i$ is a real number, and is associated with one of the input features $x_i$. \n",
    "\n",
    "To make a decision on a test instance, after we've learned the weights in training the classifier first multiplies each $x_i$ by its weight $w_i$, sums up the weighted features, and adds the bias term $b$. The resulting single number $z$ expresses the weighted sum of the evidence for the class. <br/>\n",
    "\n",
    "$z = (\\sum_{i=1}^{n}w_i x_i) + b$ <br/>\n",
    "\n",
    "$z = w.x + b$\n",
    "\n",
    "**Sigmoid function**\n",
    "\n",
    "The sigmoid function $\\sigma(z) = \\frac{1}{1+e^{-z}}$ takes a real value number and maps it to the ragne $[0,1]$. <br/>\n",
    "\n",
    "<p align=\"center\">\n",
    "  <img src=\"../markdown-images/sigmoid.png\" width=\"700\">\n",
    "</p>\n",
    "\n",
    "To create a probability, we'll pass $z$ through the **sigmoid** functio, $\\sigma(z)$. The sigmoid function is also called the **logistic function**, and gives logistic regression its name. The sigmoid has the following equation shown graphically: <br/>\n",
    "$\\sigma(z) = \\frac{1}{1+e^{-z}} = \\frac{1}{1+exp(-z)}$ <br/>\n",
    "\n",
    "If we apply sigmoid to the sum of the weighted features we get a number between 0 and 1. To make it a probability, we just need to make sure the two cases, $p(y=1)$ and $p(y=0)$, sum to 1.\n",
    "\n"
   ]
  },
  {
   "cell_type": "code",
   "execution_count": 1,
   "metadata": {},
   "outputs": [
    {
     "data": {
      "image/png": "[encoded data removed]",
      "text/plain": [
       "<Figure size 432x288 with 1 Axes>"
      ]
     },
     "metadata": {
      "needs_background": "light"
     },
     "output_type": "display_data"
    }
   ],
   "source": [
    "# Plottting a sigmoid function\n",
    "\n",
    "import matplotlib.pyplot as plt\n",
    "import numpy as np\n",
    "\n",
    "def sigmoid(z):\n",
    "    return 1.0 / (1.0 + np.exp(-z))\n",
    "\n",
    "z = np.arange(-7, 7, 0.1)\n",
    "phi_z = sigmoid(z)\n",
    "plt.plot(z, phi_z)\n",
    "plt.axvline(0.0, color='k')\n",
    "plt.ylim(-0.1, 1.1)\n",
    "plt.xlabel('z')\n",
    "plt.ylabel('$\\phi (z)$')\n",
    "\n",
    "plt.yticks([0.0,0.5,1.0])\n",
    "\n",
    "ax = plt.gca()\n",
    "ax.yaxis.grid(True)\n",
    "plt.tight_layout()\n",
    "plt.show()"
   ]
  },
  {
   "cell_type": "markdown",
   "metadata": {},
   "source": [
    "#### Classification with Logistic Regression\n",
    "\n",
    "The sigmoid function gives us a way to take an instance $x$ and compute the probability $P(y=1|x)$.\n",
    "\n",
    "How do we make decision about which class to apply to a test instance *x*? For a given *x*, we say yes if the probability $P(y=1|x)$ is more than 0.5, and no otherwise. We call 0.5 the **decision boundry**: <br/>\n",
    "$\n",
    "decision(x) = \\begin{cases}\n",
    "  1, & \\text{if } P(y=1 |x) > 0.5, \\\\\n",
    "  0, & \\text{otherwise}.\n",
    "\\end{cases}\n",
    "$"
   ]
  },
  {
   "cell_type": "markdown",
   "metadata": {},
   "source": [
    "#### Learning in Logistic Regression\n",
    "\n",
    "Logistic regression is an instance of supervised classification in which we know the correct label $y$ (either 0 or 1) for each observation $x$. What the system produces using the sigmoid fucntion ($\\sigma (x)$) is $\\hat y$, the system's estimate of the true $y$.  We want to learn the parameters $w$ and $b$ that makes $\\hat y$ for each training observation as close as possible to the true y. \n",
    "\n",
    "This requires two components. The first metric for how close the current label ($\\hat y$) is to the true label $y$. We take the distance between the system output and the true output. We call this the **loss** function or the **cost** function. \n",
    "\n",
    "The second thing that we need is an optimization algorithm for iteratively updating the weights so as to minimize the loss function. The standard algorith for this is **gradient descent**. \n"
   ]
  },
  {
   "cell_type": "markdown",
   "metadata": {},
   "source": [
    "#### The cross-entropy loss function\n",
    "\n",
    "The cost function for logistic regression is shown below: <br/>\n",
    "\n",
    "$J(w) = \\frac{1}{n} \\sum_{i=1} ^ {n} [-y^{(i)}log(\\phi (z^{(i)})) - (1 - y^{(i)})log(1 - \\phi(z^{(i)}))]$\n",
    "\n",
    "To get a better grasp of this cost functin, let's take a look at the cost that we calculate for one single training example: <br/>\n",
    "$ J(\\phi (z), y; w) = -y^{(i)}log(\\phi (z^{(i)})) - (1 - y^{(i)})log(1 - \\phi(z^{(i)})) $ <br/>\n",
    "\n",
    "Looking at the equation, we can see that the first term becomes zero if y=0, and the second term becomes zero if y=1. <br/>\n",
    "$\n",
    "J(\\phi (z), y; w) = \\begin{cases}\n",
    "  -log(\\phi (z)), & \\text{if y = 1} P(y=1 |x) > 0.5, \\\\\n",
    "  -log(1-\\phi (z)), & \\text{if y = 0}.\n",
    "\\end{cases}\n",
    "$\n",
    "<br/>\n",
    "\n"
   ]
  },
  {
   "cell_type": "code",
   "execution_count": 2,
   "metadata": {},
   "outputs": [
    {
     "data": {
      "image/png": "[encoded data removed]",
      "text/plain": [
       "<Figure size 432x288 with 1 Axes>"
      ]
     },
     "metadata": {
      "needs_background": "light"
     },
     "output_type": "display_data"
    }
   ],
   "source": [
    "## Illustrating the cost of classifying for a single training example\n",
    "\n",
    "def cost_1(z):\n",
    "    return - np.log(sigmoid(z))\n",
    "\n",
    "def cost_0(z):\n",
    "    return -np.log(1 - sigmoid(z))\n",
    "\n",
    "z = np.arange(-10, 10, 0.1)\n",
    "phi_z = sigmoid(z)\n",
    "c1 = [cost_1(x) for x in z]\n",
    "plt.plot(phi_z, c1, label='J(w) if y=1')\n",
    "c0 = [cost_0(x) for x in z]\n",
    "plt.plot(phi_z, c0, linestyle='--', label='J(w) if y=0')\n",
    "plt.ylim(0.0, 5.1)\n",
    "plt.xlim([0,1])\n",
    "plt.xlabel('$\\phi (z)$')\n",
    "plt.ylabel('J(w) ')\n",
    "plt.legend(loc='best')\n",
    "plt.tight_layout()\n",
    "plt.show()"
   ]
  },
  {
   "cell_type": "code",
   "execution_count": null,
   "metadata": {},
   "outputs": [],
   "source": [
    "\n",
    "import pandas as pd\n",
    "import matplotlib.pyplot as plt\n",
    "\n"
   ]
  },
  {
   "cell_type": "code",
   "execution_count": 8,
   "metadata": {},
   "outputs": [],
   "source": [
    "import numpy as np\n",
    "from numpy import ndarray, float64\n",
    "\n",
    "\n",
    "class LogisticRegression(object):\n",
    "    def __init__(\n",
    "        self, learning_rate: float = 0.01, n_iter: int = 50, random_state: int = 1\n",
    "    ):\n",
    "        \"\"\"Initialize the object\n",
    "\n",
    "        Args:\n",
    "            learning_rate (float, optional): Learning rate. Defaults to 0.01.\n",
    "            n_iter (int, optional): Passes over the training dataset. Defaults to 50.\n",
    "            random_state (int, optional): Random number generator seed. Defaults to 1.\n",
    "        \"\"\"\n",
    "        self.learning_rate = learning_rate\n",
    "        self.n_iter = n_iter\n",
    "        self.random_state = random_state\n",
    "\n",
    "    def fit(self, X: ndarray, y: ndarray):\n",
    "        \"\"\"Fit the training data\n",
    "\n",
    "        Args:\n",
    "            X (ndarray): shape [n_examples, n_features]\n",
    "            Training vectors, where n_examples is the number of examples and\n",
    "            n_featutes is the number of features\n",
    "            y (ndarray): shape [n_examples]\n",
    "            Target values\n",
    "\n",
    "        Returns:\n",
    "            AdalineGD : object\n",
    "        \"\"\"\n",
    "\n",
    "        rgen = np.random.RandomState(self.random_state)\n",
    "        self.weights = rgen.normal(loc=0.0, scale=0.01, size=1 + X.shape[1])\n",
    "        self.cost_ = []\n",
    "        breakpoint()\n",
    "        for _ in range(self.n_iter):\n",
    "            net_input = self.net_input(X)\n",
    "            output = self.activation(net_input)\n",
    "            errors = y - output\n",
    "            self.weights[1:] += self.learning_rate * X.T.dot(errors)\n",
    "            self.weights[0] += self.learning_rate * errors.sum()\n",
    "            # we compute the logistic cost function\n",
    "            cost = (-y.dot(np.log(output))-(1-y).dot(np.log(1-output)))\n",
    "            self.cost_.append(cost)\n",
    "\n",
    "        return self\n",
    "\n",
    "    def net_input(self, X: ndarray) -> float64:\n",
    "        \"\"\"Calculate the net input\n",
    "\n",
    "        Args:\n",
    "            X (ndarray): Input vectors\n",
    "\n",
    "        Returns:\n",
    "            float64: Net input\n",
    "        \"\"\"\n",
    "        return np.dot(X, self.weights[1:]) + self.weights[0]\n",
    "\n",
    "    def activation(self, z):\n",
    "        \"\"\"Compute linear activation\"\"\"\n",
    "        return 1. / (1. + np.exp(-z))\n",
    "\n",
    "    def predict(self, X: ndarray) -> ndarray:\n",
    "        \"\"\"Predict the label\n",
    "\n",
    "        Args:\n",
    "            X (ndarray): Input vectors\n",
    "\n",
    "        Returns:\n",
    "            ndarray: Label\n",
    "        \"\"\"\n",
    "        return np.where(self.activation(self.net_input(X)) >= 0.5, 1, 0)\n"
   ]
  },
  {
   "cell_type": "code",
   "execution_count": 9,
   "metadata": {},
   "outputs": [],
   "source": [
    "# Loading the data\n",
    "import pandas as pd\n",
    "import numpy as np\n",
    "import os\n",
    "\n",
    "filepath = os.path.join('../data', 'iris.data')\n",
    "df = pd.read_csv(filepath, header=None, encoding='utf-8') "
   ]
  },
  {
   "cell_type": "code",
   "execution_count": 10,
   "metadata": {},
   "outputs": [
    {
     "data": {
      "text/plain": [
       "array([0, 0, 0, 0, 0, 0, 0, 0, 0, 0, 0, 0, 0, 0, 0, 0, 0, 0, 0, 0, 0, 0,\n",
       "       0, 0, 0, 0, 0, 0, 0, 0, 0, 0, 0, 0, 0, 0, 0, 0, 0, 0, 0, 0, 0, 0,\n",
       "       0, 0, 0, 0, 0, 0, 1, 1, 1, 1, 1, 1, 1, 1, 1, 1, 1, 1, 1, 1, 1, 1,\n",
       "       1, 1, 1, 1, 1, 1, 1, 1, 1, 1, 1, 1, 1, 1, 1, 1, 1, 1, 1, 1, 1, 1,\n",
       "       1, 1, 1, 1, 1, 1, 1, 1, 1, 1, 1, 1])"
      ]
     },
     "execution_count": 10,
     "metadata": {},
     "output_type": "execute_result"
    }
   ],
   "source": [
    "## Select the first 100 data\n",
    "labels = df.iloc[0:100, 4].values\n",
    "labels = np.where(labels == 'Iris-setosa', 0, 1)\n",
    "labels"
   ]
  },
  {
   "cell_type": "code",
   "execution_count": 5,
   "metadata": {},
   "outputs": [
    {
     "data": {
      "text/plain": [
       "array([[5.1, 1.4],\n",
       "       [4.9, 1.4],\n",
       "       [4.7, 1.3],\n",
       "       [4.6, 1.5],\n",
       "       [5. , 1.4],\n",
       "       [5.4, 1.7],\n",
       "       [4.6, 1.4],\n",
       "       [5. , 1.5],\n",
       "       [4.4, 1.4],\n",
       "       [4.9, 1.5],\n",
       "       [5.4, 1.5],\n",
       "       [4.8, 1.6],\n",
       "       [4.8, 1.4],\n",
       "       [4.3, 1.1],\n",
       "       [5.8, 1.2],\n",
       "       [5.7, 1.5],\n",
       "       [5.4, 1.3],\n",
       "       [5.1, 1.4],\n",
       "       [5.7, 1.7],\n",
       "       [5.1, 1.5],\n",
       "       [5.4, 1.7],\n",
       "       [5.1, 1.5],\n",
       "       [4.6, 1. ],\n",
       "       [5.1, 1.7],\n",
       "       [4.8, 1.9],\n",
       "       [5. , 1.6],\n",
       "       [5. , 1.6],\n",
       "       [5.2, 1.5],\n",
       "       [5.2, 1.4],\n",
       "       [4.7, 1.6],\n",
       "       [4.8, 1.6],\n",
       "       [5.4, 1.5],\n",
       "       [5.2, 1.5],\n",
       "       [5.5, 1.4],\n",
       "       [4.9, 1.5],\n",
       "       [5. , 1.2],\n",
       "       [5.5, 1.3],\n",
       "       [4.9, 1.5],\n",
       "       [4.4, 1.3],\n",
       "       [5.1, 1.5],\n",
       "       [5. , 1.3],\n",
       "       [4.5, 1.3],\n",
       "       [4.4, 1.3],\n",
       "       [5. , 1.6],\n",
       "       [5.1, 1.9],\n",
       "       [4.8, 1.4],\n",
       "       [5.1, 1.6],\n",
       "       [4.6, 1.4],\n",
       "       [5.3, 1.5],\n",
       "       [5. , 1.4],\n",
       "       [7. , 4.7],\n",
       "       [6.4, 4.5],\n",
       "       [6.9, 4.9],\n",
       "       [5.5, 4. ],\n",
       "       [6.5, 4.6],\n",
       "       [5.7, 4.5],\n",
       "       [6.3, 4.7],\n",
       "       [4.9, 3.3],\n",
       "       [6.6, 4.6],\n",
       "       [5.2, 3.9],\n",
       "       [5. , 3.5],\n",
       "       [5.9, 4.2],\n",
       "       [6. , 4. ],\n",
       "       [6.1, 4.7],\n",
       "       [5.6, 3.6],\n",
       "       [6.7, 4.4],\n",
       "       [5.6, 4.5],\n",
       "       [5.8, 4.1],\n",
       "       [6.2, 4.5],\n",
       "       [5.6, 3.9],\n",
       "       [5.9, 4.8],\n",
       "       [6.1, 4. ],\n",
       "       [6.3, 4.9],\n",
       "       [6.1, 4.7],\n",
       "       [6.4, 4.3],\n",
       "       [6.6, 4.4],\n",
       "       [6.8, 4.8],\n",
       "       [6.7, 5. ],\n",
       "       [6. , 4.5],\n",
       "       [5.7, 3.5],\n",
       "       [5.5, 3.8],\n",
       "       [5.5, 3.7],\n",
       "       [5.8, 3.9],\n",
       "       [6. , 5.1],\n",
       "       [5.4, 4.5],\n",
       "       [6. , 4.5],\n",
       "       [6.7, 4.7],\n",
       "       [6.3, 4.4],\n",
       "       [5.6, 4.1],\n",
       "       [5.5, 4. ],\n",
       "       [5.5, 4.4],\n",
       "       [6.1, 4.6],\n",
       "       [5.8, 4. ],\n",
       "       [5. , 3.3],\n",
       "       [5.6, 4.2],\n",
       "       [5.7, 4.2],\n",
       "       [5.7, 4.2],\n",
       "       [6.2, 4.3],\n",
       "       [5.1, 3. ],\n",
       "       [5.7, 4.1]])"
      ]
     },
     "execution_count": 5,
     "metadata": {},
     "output_type": "execute_result"
    }
   ],
   "source": [
    "features = df.iloc[0:100, [0,2]].values\n",
    "features"
   ]
  },
  {
   "cell_type": "code",
   "execution_count": 11,
   "metadata": {},
   "outputs": [
    {
     "data": {
      "image/png": "[encoded data removed]",
      "text/plain": [
       "<Figure size 432x288 with 1 Axes>"
      ]
     },
     "metadata": {
      "needs_background": "light"
     },
     "output_type": "display_data"
    }
   ],
   "source": [
    "import matplotlib.pyplot as plt\n",
    "plt.scatter(features[:50, 0], features[:50, 1], color='red', marker='o', label='setosa')\n",
    "plt.scatter(features[50:100, 0], features[50:100, 1], color='blue', marker='x', label='versicolor')\n",
    "plt.xlabel('sepal length[cm]')\n",
    "plt.ylabel('petal length [cm]')\n",
    "plt.legend(loc='upper left')\n",
    "plt.show()"
   ]
  },
  {
   "cell_type": "code",
   "execution_count": 12,
   "metadata": {},
   "outputs": [],
   "source": [
    "from sklearn.model_selection import train_test_split\n",
    "X_train, X_test, y_train, y_test = train_test_split(features, labels, random_state=0, train_size = .75)"
   ]
  },
  {
   "cell_type": "code",
   "execution_count": 23,
   "metadata": {},
   "outputs": [
    {
     "data": {
      "image/png": "[encoded data removed]",
      "text/plain": [
       "<Figure size 720x288 with 2 Axes>"
      ]
     },
     "metadata": {
      "needs_background": "light"
     },
     "output_type": "display_data"
    }
   ],
   "source": [
    "import matplotlib.pyplot as plt\n",
    "import numpy as np\n",
    "\n",
    "\n",
    "fig, ax = plt.subplots(nrows=1, ncols=2, figsize=(10,4))\n",
    "\n",
    "lr1 = LogisticRegression(learning_rate=0.01, n_iter=100).fit(X_train, y_train)\n",
    "\n",
    "ax[0].plot(range(1, len(lr1.cost_) + 1), np.log10(lr1.cost_), marker='o')\n",
    "ax[0].set_xlabel('Epochs')\n",
    "ax[0].set_ylabel('log(Sum-squared-error)')\n",
    "ax[0].set_title('Logisitic regression learning rate 0.01')\n",
    "\n",
    "lr2 = LogisticRegression(learning_rate=0.0001, n_iter=100).fit(X_train, y_train)\n",
    "\n",
    "ax[1].plot(range(1, len(lr2.cost_) + 1), np.log10(lr2.cost_), marker='o')\n",
    "ax[1].set_xlabel('Epochs')\n",
    "ax[1].set_ylabel('log(Sum-squared-error)')\n",
    "ax[1].set_title('Logisitic regression learning rate 0.0001')\n",
    "\n",
    "\n",
    "plt.show()"
   ]
  },
  {
   "cell_type": "code",
   "execution_count": 24,
   "metadata": {},
   "outputs": [],
   "source": [
    "def accuracy_metric(trained_model, test_features, test_labels):\n",
    "    correct_predictions = 0\n",
    "    total_predictions = len(test_labels)\n",
    "    for X, label in zip(test_features, test_labels):\n",
    "        predicted_label = trained_model.predict(X)\n",
    "        if label == predicted_label:\n",
    "            correct_predictions += 1\n",
    "    \n",
    "    accuracy = (correct_predictions/total_predictions) * 100\n",
    "    return accuracy"
   ]
  },
  {
   "cell_type": "code",
   "execution_count": 25,
   "metadata": {},
   "outputs": [
    {
     "name": "stdout",
     "output_type": "stream",
     "text": [
      "Accuracy = 96.0\n"
     ]
    }
   ],
   "source": [
    "accuracy = accuracy_metric(lr2, X_test, y_test)\n",
    "print(f\"Accuracy = {accuracy}\")"
   ]
  },
  {
   "cell_type": "code",
   "execution_count": null,
   "metadata": {},
   "outputs": [],
   "source": []
  }
 ],
 "metadata": {
  "kernelspec": {
   "display_name": "Python 3.8.10 ('env': venv)",
   "language": "python",
   "name": "python3"
  },
  "language_info": {
   "codemirror_mode": {
    "name": "ipython",
    "version": 3
   },
   "file_extension": ".py",
   "mimetype": "text/x-python",
   "name": "python",
   "nbconvert_exporter": "python",
   "pygments_lexer": "ipython3",
   "version": "3.8.10"
  },
  "orig_nbformat": 4,
  "vscode": {
   "interpreter": {
    "hash": "eb6fa1767a1e71d85bec8c42f873ca19270f8f93bde4e75d65e361f3717e7f94"
   }
  }
 },
 "nbformat": 4,
 "nbformat_minor": 2
}

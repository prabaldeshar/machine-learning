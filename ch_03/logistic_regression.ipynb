{
 "cells": [
  {
   "cell_type": "markdown",
   "metadata": {},
   "source": [
    "\n",
    "Shortcoming of Linear Regrssion\n",
    "\n",
    "<p align=\"center\">\n",
    "  <img src=\"../markdown-images/linear_reg_shortcoming.png\" width=\"700\">\n",
    "</p>\n",
    "\n"
   ]
  },
  {
   "cell_type": "markdown",
   "metadata": {},
   "source": [
    "#### Logistic regression\n",
    "\n",
    "The goal of binary logistic regression is to train a classifier that can make a binary decision about the class of a new input observation. Here the **sigmoid** classifier is introduced to help us make this decision.\n",
    "\n",
    "Consider a single input observation $x$, which we will represent by a vector of feautres $[x_1, x_2, ...,x_n]$. The classifier output $y$ can be 1 (meaning the observation is the member of the class) or 0(the observation is not a memeber of the class). We want to know the probability $P(y=1|x)$ that this observation is a member of the class.\n",
    "\n",
    "Logistic regression solves this task by learning, from a training set, a vector of **weights** and a **bias** term. Each weight is $w_i$ is a real number, and is associated with one of the input features $x_i$. \n",
    "\n",
    "To make a decision on a test instance, after we've learned the weights in training the classifier first multiplies each $x_i$ by its weight $w_i$, sums up the weighted features, and adds the bias term $b$. The resulting single number $z$ expresses the weighted sum of the evidence for the class. <br/>\n",
    "\n",
    "$z = (\\sum_{i=1}^{n}w_i x_i) + b$ <br/>\n",
    "\n",
    "$z = w.x + b$\n",
    "\n",
    "**Sigmoid function**\n",
    "\n",
    "The sigmoid function $\\sigma(z) = \\frac{1}{1+e^{-z}}$ takes a real value number and maps it to the ragne $[0,1]$. <br/>\n",
    "\n",
    "<p align=\"center\">\n",
    "  <img src=\"../markdown-images/sigmoid.png\" width=\"700\">\n",
    "</p>\n",
    "\n",
    "To create a probability, we'll pass $z$ through the **sigmoid** functio, $\\sigma(z)$. The sigmoid function is also called the **logistic function**, and gives logistic regression its name. The sigmoid has the following equation shown graphically: <br/>\n",
    "$\\sigma(z) = \\frac{1}{1+e^{-z}} = \\frac{1}{1+exp(-z)}$ <br/>\n",
    "\n",
    "If we apply sigmoid to the sum of the weighted features we get a number between 0 and 1. To make it a probability, we just need to make sure the two cases, $p(y=1)$ and $p(y=0)$, sum to 1.\n",
    "\n"
   ]
  },
  {
   "cell_type": "code",
   "execution_count": 1,
   "metadata": {},
   "outputs": [
    {
     "data": {
      "image/png": "[encoded data removed]",
      "text/plain": [
       "<Figure size 432x288 with 1 Axes>"
      ]
     },
     "metadata": {
      "needs_background": "light"
     },
     "output_type": "display_data"
    }
   ],
   "source": [
    "# Plottting a sigmoid function\n",
    "\n",
    "import matplotlib.pyplot as plt\n",
    "import numpy as np\n",
    "\n",
    "def sigmoid(z):\n",
    "    return 1.0 / (1.0 + np.exp(-z))\n",
    "\n",
    "z = np.arange(-7, 7, 0.1)\n",
    "phi_z = sigmoid(z)\n",
    "plt.plot(z, phi_z)\n",
    "plt.axvline(0.0, color='k')\n",
    "plt.ylim(-0.1, 1.1)\n",
    "plt.xlabel('z')\n",
    "plt.ylabel('$\\phi (z)$')\n",
    "\n",
    "plt.yticks([0.0,0.5,1.0])\n",
    "\n",
    "ax = plt.gca()\n",
    "ax.yaxis.grid(True)\n",
    "plt.tight_layout()\n",
    "plt.show()"
   ]
  },
  {
   "cell_type": "markdown",
   "metadata": {},
   "source": [
    "#### Classification with Logistic Regression\n",
    "\n",
    "The sigmoid function gives us a way to take an instance $x$ and compute the probability $P(y=1|x)$.\n",
    "\n",
    "How do we make decision about which class to apply to a test instance *x*? For a given *x*, we say yes if the probability $P(y=1|x)$ is more than 0.5, and no otherwise. We call 0.5 the **decision boundry**: <br/>\n",
    "$\n",
    "decision(x) = \\begin{cases}\n",
    "  1, & \\text{if } P(y=1 |x) > 0.5, \\\\\n",
    "  0, & \\text{otherwise}.\n",
    "\\end{cases}\n",
    "$"
   ]
  },
  {
   "cell_type": "markdown",
   "metadata": {},
   "source": [
    "#### Learning in Logistic Regression\n",
    "\n",
    "Logistic regression is an instance of supervised classification in which we know the correct label $y$ (either 0 or 1) for each observation $x$. What the system produces using the sigmoid fucntion ($\\sigma (x)$) is $\\hat y$, the system's estimate of the true $y$.  We want to learn the parameters $w$ and $b$ that makes $\\hat y$ for each training observation as close as possible to the true y. \n",
    "\n",
    "This requires two components. The first metric for how close the current label ($\\hat y$) is to the true label $y$. We take the distance between the system output and the true output. We call this the **loss** function or the **cost** function. \n",
    "\n",
    "The second thing that we need is an optimization algorithm for iteratively updating the weights so as to minimize the loss function. The standard algorith for this is **gradient descent**. \n"
   ]
  },
  {
   "cell_type": "markdown",
   "metadata": {},
   "source": [
    "#### The cross-entropy loss function\n",
    "\n",
    "The cost function for logistic regression is shown below: <br/>\n",
    "\n",
    "$J(w) = \\sum_{i=1} ^ {n} [-y^{(i)}log(\\phi (z^{(i)})) - (1 - y^{(i)})log(1 - \\phi(z^{(i)}))]$\n",
    "\n",
    "To get a better grasp of this cost functin, let's take a look at the cost that we calculate for one single training example: <br/>\n",
    "$ J(\\phi (z), y; w) = -y^{(i)}log(\\phi (z^{(i)})) - (1 - y^{(i)})log(1 - \\phi(z^{(i)})) $ <br/>\n",
    "\n",
    "Looking at the equation, we can see that the first term becomes zero if y=0, and the second term becomes zero if y=1. <br/>\n",
    "$\n",
    "J(\\phi (z), y; w) = \\begin{cases}\n",
    "  -log(\\phi (z)), & \\text{if y = 1} P(y=1 |x) > 0.5, \\\\\n",
    "  -log(1-\\phi (z)), & \\text{if y = 0}.\n",
    "\\end{cases}\n",
    "$\n",
    "<br/>\n",
    "\n"
   ]
  },
  {
   "cell_type": "code",
   "execution_count": 2,
   "metadata": {},
   "outputs": [
    {
     "data": {
      "image/png": "[encoded data removed]",
      "text/plain": [
       "<Figure size 432x288 with 1 Axes>"
      ]
     },
     "metadata": {
      "needs_background": "light"
     },
     "output_type": "display_data"
    }
   ],
   "source": [
    "## Illustrating the cost of classifying for a single training example\n",
    "\n",
    "def cost_1(z):\n",
    "    return - np.log(sigmoid(z))\n",
    "\n",
    "def cost_0(z):\n",
    "    return -np.log(1 - sigmoid(z))\n",
    "\n",
    "z = np.arange(-10, 10, 0.1)\n",
    "phi_z = sigmoid(z)\n",
    "c1 = [cost_1(x) for x in z]\n",
    "plt.plot(phi_z, c1, label='J(w) if y=1')\n",
    "c0 = [cost_0(x) for x in z]\n",
    "plt.plot(phi_z, c0, linestyle='--', label='J(w) if y=0')\n",
    "plt.ylim(0.0, 5.1)\n",
    "plt.xlim([0,1])\n",
    "plt.xlabel('$\\phi (z)$')\n",
    "plt.ylabel('J(w) ')\n",
    "plt.legend(loc='best')\n",
    "plt.tight_layout()\n",
    "plt.show()"
   ]
  },
  {
   "cell_type": "code",
   "execution_count": null,
   "metadata": {},
   "outputs": [],
   "source": [
    "#### Linear regression\n",
    "\n",
    "import pandas as pd\n",
    "import matplotlib.pyplot as plt\n",
    "\n"
   ]
  }
 ],
 "metadata": {
  "kernelspec": {
   "display_name": "Python 3.8.10 ('env': venv)",
   "language": "python",
   "name": "python3"
  },
  "language_info": {
   "codemirror_mode": {
    "name": "ipython",
    "version": 3
   },
   "file_extension": ".py",
   "mimetype": "text/x-python",
   "name": "python",
   "nbconvert_exporter": "python",
   "pygments_lexer": "ipython3",
   "version": "3.8.10"
  },
  "orig_nbformat": 4,
  "vscode": {
   "interpreter": {
    "hash": "eb6fa1767a1e71d85bec8c42f873ca19270f8f93bde4e75d65e361f3717e7f94"
   }
  }
 },
 "nbformat": 4,
 "nbformat_minor": 2
}
